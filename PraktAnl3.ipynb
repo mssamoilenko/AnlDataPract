{
  "nbformat": 4,
  "nbformat_minor": 0,
  "metadata": {
    "colab": {
      "provenance": [],
      "authorship_tag": "ABX9TyMGT/4pceKtDMvv5QY4n1Yf",
      "include_colab_link": true
    },
    "kernelspec": {
      "name": "python3",
      "display_name": "Python 3"
    },
    "language_info": {
      "name": "python"
    }
  },
  "cells": [
    {
      "cell_type": "markdown",
      "metadata": {
        "id": "view-in-github",
        "colab_type": "text"
      },
      "source": [
        "<a href=\"https://colab.research.google.com/github/mssamoilenko/AnlDataPract/blob/main/PraktAnl3.ipynb\" target=\"_parent\"><img src=\"https://colab.research.google.com/assets/colab-badge.svg\" alt=\"Open In Colab\"/></a>"
      ]
    },
    {
      "cell_type": "markdown",
      "source": [
        "# Практична робота №3\n",
        "## Тема: класифікація за допомогою логістичної\n",
        "## регресії та наївного Баєса.\n",
        "## Мета: закріплення навичок роботи із категорійними даними, їх по\n",
        "## передньої обробки та класифікація даних.\n",
        "## Завдання\n",
        "## 1.    Використати дані відповідно до власного варіанта (в мене це варіант №2). Вивести таблицю за допомогою Pandas.\n",
        "## 2.   Визначити числові, категорійні впорядковані, категорійні невпорядковані\n",
        "## змінні. Для кожної категорійної змінної написати код, який виводить всі\n",
        "## унікальні значення, котрі вона набуває в наборі даних.\n",
        "## 3.   Закодувати категорійні впорядковані числами 0, 1, 2… (або іншими\n",
        "## числами аналогічним чином), до невпорядкованих застосувати опорне\n",
        "## кодування.\n",
        "## 4.   Застосувати методи логістичної регресії та наївного Баєса до оброблених\n",
        "## даних для передбачення змінної «Статус проєкта». На крос-валідації обрати\n",
        "## кращу модель.\n",
        "## Варіант роботи № 2\n",
        "## Хід роботи\n",
        "\n",
        "## 1.   Виводжу таблицю з даними відповідно моєму варіанту.\n",
        "\n",
        "\n",
        "\n",
        "\n",
        "\n"
      ],
      "metadata": {
        "id": "ynWBFikzZNF2"
      }
    },
    {
      "cell_type": "code",
      "execution_count": 63,
      "metadata": {
        "id": "fJ-TD4M6Dtf7",
        "colab": {
          "base_uri": "https://localhost:8080/",
          "height": 545
        },
        "outputId": "65ebef9f-f26d-4533-9506-e6cfc0084db4"
      },
      "outputs": [
        {
          "output_type": "execute_result",
          "data": {
            "text/plain": [
              "      Потужність (л/г)                 Тара       Якість   Структура  \\\n",
              "0                38.33  Особливе замовлення       Низька  Ромбовидна   \n",
              "1                76.99  Особливе замовлення  Дуже низька  Фрактальна   \n",
              "2                48.72             Каністра  Дуже низька     Решітка   \n",
              "3                63.23                 Своя       Низька  Ромбовидна   \n",
              "4                24.63                Бочка  Дуже низька  Фрактальна   \n",
              "...                ...                  ...          ...         ...   \n",
              "4995             37.36                Бочка       Висока     Решітка   \n",
              "4996             41.68                Бочка       Висока  Фрактальна   \n",
              "4997             51.92             Каністра      Середня  Ромбовидна   \n",
              "4998             49.98             Каністра      Середня  Фрактальна   \n",
              "4999             63.61                Бочка       Низька  Фрактальна   \n",
              "\n",
              "      Відстань від джерела (км)      Матеріал  Вартість (грн) Статус проєкта  \n",
              "0                       2479.88          Скло          954.65    Заблоковано  \n",
              "1                       1825.69        Залізо         1216.99      Узгоджено  \n",
              "2                       2034.32        Залізо          861.93      Узгоджено  \n",
              "3                       2518.65  Поліпропілен         1055.64    Заблоковано  \n",
              "4                       2661.19          Скло         1063.26    Заблоковано  \n",
              "...                         ...           ...             ...            ...  \n",
              "4995                    2462.35          Льон          911.51    Заблоковано  \n",
              "4996                    2774.46        Залізо         1136.20    Заблоковано  \n",
              "4997                    2482.63          Льон         1056.54      Узгоджено  \n",
              "4998                    1768.00  Поліпропілен         1134.95      Узгоджено  \n",
              "4999                    2113.69        Залізо          791.52      Узгоджено  \n",
              "\n",
              "[5000 rows x 8 columns]"
            ],
            "text/html": [
              "\n",
              "  <div id=\"df-8a54e407-0591-4c24-8868-b6146103832f\" class=\"colab-df-container\">\n",
              "    <div>\n",
              "<style scoped>\n",
              "    .dataframe tbody tr th:only-of-type {\n",
              "        vertical-align: middle;\n",
              "    }\n",
              "\n",
              "    .dataframe tbody tr th {\n",
              "        vertical-align: top;\n",
              "    }\n",
              "\n",
              "    .dataframe thead th {\n",
              "        text-align: right;\n",
              "    }\n",
              "</style>\n",
              "<table border=\"1\" class=\"dataframe\">\n",
              "  <thead>\n",
              "    <tr style=\"text-align: right;\">\n",
              "      <th></th>\n",
              "      <th>Потужність (л/г)</th>\n",
              "      <th>Тара</th>\n",
              "      <th>Якість</th>\n",
              "      <th>Структура</th>\n",
              "      <th>Відстань від джерела (км)</th>\n",
              "      <th>Матеріал</th>\n",
              "      <th>Вартість (грн)</th>\n",
              "      <th>Статус проєкта</th>\n",
              "    </tr>\n",
              "  </thead>\n",
              "  <tbody>\n",
              "    <tr>\n",
              "      <th>0</th>\n",
              "      <td>38.33</td>\n",
              "      <td>Особливе замовлення</td>\n",
              "      <td>Низька</td>\n",
              "      <td>Ромбовидна</td>\n",
              "      <td>2479.88</td>\n",
              "      <td>Скло</td>\n",
              "      <td>954.65</td>\n",
              "      <td>Заблоковано</td>\n",
              "    </tr>\n",
              "    <tr>\n",
              "      <th>1</th>\n",
              "      <td>76.99</td>\n",
              "      <td>Особливе замовлення</td>\n",
              "      <td>Дуже низька</td>\n",
              "      <td>Фрактальна</td>\n",
              "      <td>1825.69</td>\n",
              "      <td>Залізо</td>\n",
              "      <td>1216.99</td>\n",
              "      <td>Узгоджено</td>\n",
              "    </tr>\n",
              "    <tr>\n",
              "      <th>2</th>\n",
              "      <td>48.72</td>\n",
              "      <td>Каністра</td>\n",
              "      <td>Дуже низька</td>\n",
              "      <td>Решітка</td>\n",
              "      <td>2034.32</td>\n",
              "      <td>Залізо</td>\n",
              "      <td>861.93</td>\n",
              "      <td>Узгоджено</td>\n",
              "    </tr>\n",
              "    <tr>\n",
              "      <th>3</th>\n",
              "      <td>63.23</td>\n",
              "      <td>Своя</td>\n",
              "      <td>Низька</td>\n",
              "      <td>Ромбовидна</td>\n",
              "      <td>2518.65</td>\n",
              "      <td>Поліпропілен</td>\n",
              "      <td>1055.64</td>\n",
              "      <td>Заблоковано</td>\n",
              "    </tr>\n",
              "    <tr>\n",
              "      <th>4</th>\n",
              "      <td>24.63</td>\n",
              "      <td>Бочка</td>\n",
              "      <td>Дуже низька</td>\n",
              "      <td>Фрактальна</td>\n",
              "      <td>2661.19</td>\n",
              "      <td>Скло</td>\n",
              "      <td>1063.26</td>\n",
              "      <td>Заблоковано</td>\n",
              "    </tr>\n",
              "    <tr>\n",
              "      <th>...</th>\n",
              "      <td>...</td>\n",
              "      <td>...</td>\n",
              "      <td>...</td>\n",
              "      <td>...</td>\n",
              "      <td>...</td>\n",
              "      <td>...</td>\n",
              "      <td>...</td>\n",
              "      <td>...</td>\n",
              "    </tr>\n",
              "    <tr>\n",
              "      <th>4995</th>\n",
              "      <td>37.36</td>\n",
              "      <td>Бочка</td>\n",
              "      <td>Висока</td>\n",
              "      <td>Решітка</td>\n",
              "      <td>2462.35</td>\n",
              "      <td>Льон</td>\n",
              "      <td>911.51</td>\n",
              "      <td>Заблоковано</td>\n",
              "    </tr>\n",
              "    <tr>\n",
              "      <th>4996</th>\n",
              "      <td>41.68</td>\n",
              "      <td>Бочка</td>\n",
              "      <td>Висока</td>\n",
              "      <td>Фрактальна</td>\n",
              "      <td>2774.46</td>\n",
              "      <td>Залізо</td>\n",
              "      <td>1136.20</td>\n",
              "      <td>Заблоковано</td>\n",
              "    </tr>\n",
              "    <tr>\n",
              "      <th>4997</th>\n",
              "      <td>51.92</td>\n",
              "      <td>Каністра</td>\n",
              "      <td>Середня</td>\n",
              "      <td>Ромбовидна</td>\n",
              "      <td>2482.63</td>\n",
              "      <td>Льон</td>\n",
              "      <td>1056.54</td>\n",
              "      <td>Узгоджено</td>\n",
              "    </tr>\n",
              "    <tr>\n",
              "      <th>4998</th>\n",
              "      <td>49.98</td>\n",
              "      <td>Каністра</td>\n",
              "      <td>Середня</td>\n",
              "      <td>Фрактальна</td>\n",
              "      <td>1768.00</td>\n",
              "      <td>Поліпропілен</td>\n",
              "      <td>1134.95</td>\n",
              "      <td>Узгоджено</td>\n",
              "    </tr>\n",
              "    <tr>\n",
              "      <th>4999</th>\n",
              "      <td>63.61</td>\n",
              "      <td>Бочка</td>\n",
              "      <td>Низька</td>\n",
              "      <td>Фрактальна</td>\n",
              "      <td>2113.69</td>\n",
              "      <td>Залізо</td>\n",
              "      <td>791.52</td>\n",
              "      <td>Узгоджено</td>\n",
              "    </tr>\n",
              "  </tbody>\n",
              "</table>\n",
              "<p>5000 rows × 8 columns</p>\n",
              "</div>\n",
              "    <div class=\"colab-df-buttons\">\n",
              "\n",
              "  <div class=\"colab-df-container\">\n",
              "    <button class=\"colab-df-convert\" onclick=\"convertToInteractive('df-8a54e407-0591-4c24-8868-b6146103832f')\"\n",
              "            title=\"Convert this dataframe to an interactive table.\"\n",
              "            style=\"display:none;\">\n",
              "\n",
              "  <svg xmlns=\"http://www.w3.org/2000/svg\" height=\"24px\" viewBox=\"0 -960 960 960\">\n",
              "    <path d=\"M120-120v-720h720v720H120Zm60-500h600v-160H180v160Zm220 220h160v-160H400v160Zm0 220h160v-160H400v160ZM180-400h160v-160H180v160Zm440 0h160v-160H620v160ZM180-180h160v-160H180v160Zm440 0h160v-160H620v160Z\"/>\n",
              "  </svg>\n",
              "    </button>\n",
              "\n",
              "  <style>\n",
              "    .colab-df-container {\n",
              "      display:flex;\n",
              "      gap: 12px;\n",
              "    }\n",
              "\n",
              "    .colab-df-convert {\n",
              "      background-color: #E8F0FE;\n",
              "      border: none;\n",
              "      border-radius: 50%;\n",
              "      cursor: pointer;\n",
              "      display: none;\n",
              "      fill: #1967D2;\n",
              "      height: 32px;\n",
              "      padding: 0 0 0 0;\n",
              "      width: 32px;\n",
              "    }\n",
              "\n",
              "    .colab-df-convert:hover {\n",
              "      background-color: #E2EBFA;\n",
              "      box-shadow: 0px 1px 2px rgba(60, 64, 67, 0.3), 0px 1px 3px 1px rgba(60, 64, 67, 0.15);\n",
              "      fill: #174EA6;\n",
              "    }\n",
              "\n",
              "    .colab-df-buttons div {\n",
              "      margin-bottom: 4px;\n",
              "    }\n",
              "\n",
              "    [theme=dark] .colab-df-convert {\n",
              "      background-color: #3B4455;\n",
              "      fill: #D2E3FC;\n",
              "    }\n",
              "\n",
              "    [theme=dark] .colab-df-convert:hover {\n",
              "      background-color: #434B5C;\n",
              "      box-shadow: 0px 1px 3px 1px rgba(0, 0, 0, 0.15);\n",
              "      filter: drop-shadow(0px 1px 2px rgba(0, 0, 0, 0.3));\n",
              "      fill: #FFFFFF;\n",
              "    }\n",
              "  </style>\n",
              "\n",
              "    <script>\n",
              "      const buttonEl =\n",
              "        document.querySelector('#df-8a54e407-0591-4c24-8868-b6146103832f button.colab-df-convert');\n",
              "      buttonEl.style.display =\n",
              "        google.colab.kernel.accessAllowed ? 'block' : 'none';\n",
              "\n",
              "      async function convertToInteractive(key) {\n",
              "        const element = document.querySelector('#df-8a54e407-0591-4c24-8868-b6146103832f');\n",
              "        const dataTable =\n",
              "          await google.colab.kernel.invokeFunction('convertToInteractive',\n",
              "                                                    [key], {});\n",
              "        if (!dataTable) return;\n",
              "\n",
              "        const docLinkHtml = 'Like what you see? Visit the ' +\n",
              "          '<a target=\"_blank\" href=https://colab.research.google.com/notebooks/data_table.ipynb>data table notebook</a>'\n",
              "          + ' to learn more about interactive tables.';\n",
              "        element.innerHTML = '';\n",
              "        dataTable['output_type'] = 'display_data';\n",
              "        await google.colab.output.renderOutput(dataTable, element);\n",
              "        const docLink = document.createElement('div');\n",
              "        docLink.innerHTML = docLinkHtml;\n",
              "        element.appendChild(docLink);\n",
              "      }\n",
              "    </script>\n",
              "  </div>\n",
              "\n",
              "\n",
              "    <div id=\"df-f130b330-16ad-41b2-af93-4e52967102d4\">\n",
              "      <button class=\"colab-df-quickchart\" onclick=\"quickchart('df-f130b330-16ad-41b2-af93-4e52967102d4')\"\n",
              "                title=\"Suggest charts\"\n",
              "                style=\"display:none;\">\n",
              "\n",
              "<svg xmlns=\"http://www.w3.org/2000/svg\" height=\"24px\"viewBox=\"0 0 24 24\"\n",
              "     width=\"24px\">\n",
              "    <g>\n",
              "        <path d=\"M19 3H5c-1.1 0-2 .9-2 2v14c0 1.1.9 2 2 2h14c1.1 0 2-.9 2-2V5c0-1.1-.9-2-2-2zM9 17H7v-7h2v7zm4 0h-2V7h2v10zm4 0h-2v-4h2v4z\"/>\n",
              "    </g>\n",
              "</svg>\n",
              "      </button>\n",
              "\n",
              "<style>\n",
              "  .colab-df-quickchart {\n",
              "      --bg-color: #E8F0FE;\n",
              "      --fill-color: #1967D2;\n",
              "      --hover-bg-color: #E2EBFA;\n",
              "      --hover-fill-color: #174EA6;\n",
              "      --disabled-fill-color: #AAA;\n",
              "      --disabled-bg-color: #DDD;\n",
              "  }\n",
              "\n",
              "  [theme=dark] .colab-df-quickchart {\n",
              "      --bg-color: #3B4455;\n",
              "      --fill-color: #D2E3FC;\n",
              "      --hover-bg-color: #434B5C;\n",
              "      --hover-fill-color: #FFFFFF;\n",
              "      --disabled-bg-color: #3B4455;\n",
              "      --disabled-fill-color: #666;\n",
              "  }\n",
              "\n",
              "  .colab-df-quickchart {\n",
              "    background-color: var(--bg-color);\n",
              "    border: none;\n",
              "    border-radius: 50%;\n",
              "    cursor: pointer;\n",
              "    display: none;\n",
              "    fill: var(--fill-color);\n",
              "    height: 32px;\n",
              "    padding: 0;\n",
              "    width: 32px;\n",
              "  }\n",
              "\n",
              "  .colab-df-quickchart:hover {\n",
              "    background-color: var(--hover-bg-color);\n",
              "    box-shadow: 0 1px 2px rgba(60, 64, 67, 0.3), 0 1px 3px 1px rgba(60, 64, 67, 0.15);\n",
              "    fill: var(--button-hover-fill-color);\n",
              "  }\n",
              "\n",
              "  .colab-df-quickchart-complete:disabled,\n",
              "  .colab-df-quickchart-complete:disabled:hover {\n",
              "    background-color: var(--disabled-bg-color);\n",
              "    fill: var(--disabled-fill-color);\n",
              "    box-shadow: none;\n",
              "  }\n",
              "\n",
              "  .colab-df-spinner {\n",
              "    border: 2px solid var(--fill-color);\n",
              "    border-color: transparent;\n",
              "    border-bottom-color: var(--fill-color);\n",
              "    animation:\n",
              "      spin 1s steps(1) infinite;\n",
              "  }\n",
              "\n",
              "  @keyframes spin {\n",
              "    0% {\n",
              "      border-color: transparent;\n",
              "      border-bottom-color: var(--fill-color);\n",
              "      border-left-color: var(--fill-color);\n",
              "    }\n",
              "    20% {\n",
              "      border-color: transparent;\n",
              "      border-left-color: var(--fill-color);\n",
              "      border-top-color: var(--fill-color);\n",
              "    }\n",
              "    30% {\n",
              "      border-color: transparent;\n",
              "      border-left-color: var(--fill-color);\n",
              "      border-top-color: var(--fill-color);\n",
              "      border-right-color: var(--fill-color);\n",
              "    }\n",
              "    40% {\n",
              "      border-color: transparent;\n",
              "      border-right-color: var(--fill-color);\n",
              "      border-top-color: var(--fill-color);\n",
              "    }\n",
              "    60% {\n",
              "      border-color: transparent;\n",
              "      border-right-color: var(--fill-color);\n",
              "    }\n",
              "    80% {\n",
              "      border-color: transparent;\n",
              "      border-right-color: var(--fill-color);\n",
              "      border-bottom-color: var(--fill-color);\n",
              "    }\n",
              "    90% {\n",
              "      border-color: transparent;\n",
              "      border-bottom-color: var(--fill-color);\n",
              "    }\n",
              "  }\n",
              "</style>\n",
              "\n",
              "      <script>\n",
              "        async function quickchart(key) {\n",
              "          const quickchartButtonEl =\n",
              "            document.querySelector('#' + key + ' button');\n",
              "          quickchartButtonEl.disabled = true;  // To prevent multiple clicks.\n",
              "          quickchartButtonEl.classList.add('colab-df-spinner');\n",
              "          try {\n",
              "            const charts = await google.colab.kernel.invokeFunction(\n",
              "                'suggestCharts', [key], {});\n",
              "          } catch (error) {\n",
              "            console.error('Error during call to suggestCharts:', error);\n",
              "          }\n",
              "          quickchartButtonEl.classList.remove('colab-df-spinner');\n",
              "          quickchartButtonEl.classList.add('colab-df-quickchart-complete');\n",
              "        }\n",
              "        (() => {\n",
              "          let quickchartButtonEl =\n",
              "            document.querySelector('#df-f130b330-16ad-41b2-af93-4e52967102d4 button');\n",
              "          quickchartButtonEl.style.display =\n",
              "            google.colab.kernel.accessAllowed ? 'block' : 'none';\n",
              "        })();\n",
              "      </script>\n",
              "    </div>\n",
              "    </div>\n",
              "  </div>\n"
            ],
            "application/vnd.google.colaboratory.intrinsic+json": {
              "type": "dataframe",
              "variable_name": "df",
              "summary": "{\n  \"name\": \"df\",\n  \"rows\": 5000,\n  \"fields\": [\n    {\n      \"column\": \"\\u041f\\u043e\\u0442\\u0443\\u0436\\u043d\\u0456\\u0441\\u0442\\u044c (\\u043b/\\u0433)\",\n      \"properties\": {\n        \"dtype\": \"number\",\n        \"std\": 14.911581773177492,\n        \"min\": -12.51,\n        \"max\": 104.88,\n        \"num_unique_values\": 2425,\n        \"samples\": [\n          38.14,\n          73.78,\n          48.13\n        ],\n        \"semantic_type\": \"\",\n        \"description\": \"\"\n      }\n    },\n    {\n      \"column\": \"\\u0422\\u0430\\u0440\\u0430\",\n      \"properties\": {\n        \"dtype\": \"category\",\n        \"num_unique_values\": 4,\n        \"samples\": [\n          \"\\u041a\\u0430\\u043d\\u0456\\u0441\\u0442\\u0440\\u0430\",\n          \"\\u0411\\u043e\\u0447\\u043a\\u0430\",\n          \"\\u041e\\u0441\\u043e\\u0431\\u043b\\u0438\\u0432\\u0435 \\u0437\\u0430\\u043c\\u043e\\u0432\\u043b\\u0435\\u043d\\u043d\\u044f\"\n        ],\n        \"semantic_type\": \"\",\n        \"description\": \"\"\n      }\n    },\n    {\n      \"column\": \"\\u042f\\u043a\\u0456\\u0441\\u0442\\u044c\",\n      \"properties\": {\n        \"dtype\": \"category\",\n        \"num_unique_values\": 4,\n        \"samples\": [\n          \"\\u0414\\u0443\\u0436\\u0435 \\u043d\\u0438\\u0437\\u044c\\u043a\\u0430\",\n          \"\\u0412\\u0438\\u0441\\u043e\\u043a\\u0430\",\n          \"\\u041d\\u0438\\u0437\\u044c\\u043a\\u0430\"\n        ],\n        \"semantic_type\": \"\",\n        \"description\": \"\"\n      }\n    },\n    {\n      \"column\": \"\\u0421\\u0442\\u0440\\u0443\\u043a\\u0442\\u0443\\u0440\\u0430\",\n      \"properties\": {\n        \"dtype\": \"category\",\n        \"num_unique_values\": 3,\n        \"samples\": [\n          \"\\u0420\\u043e\\u043c\\u0431\\u043e\\u0432\\u0438\\u0434\\u043d\\u0430\",\n          \"\\u0424\\u0440\\u0430\\u043a\\u0442\\u0430\\u043b\\u044c\\u043d\\u0430\",\n          \"\\u0420\\u0435\\u0448\\u0456\\u0442\\u043a\\u0430\"\n        ],\n        \"semantic_type\": \"\",\n        \"description\": \"\"\n      }\n    },\n    {\n      \"column\": \"\\u0412\\u0456\\u0434\\u0441\\u0442\\u0430\\u043d\\u044c \\u0432\\u0456\\u0434 \\u0434\\u0436\\u0435\\u0440\\u0435\\u043b\\u0430 (\\u043a\\u043c)\",\n      \"properties\": {\n        \"dtype\": \"number\",\n        \"std\": 325.9932208004599,\n        \"min\": 1371.01,\n        \"max\": 3745.21,\n        \"num_unique_values\": 3145,\n        \"samples\": [\n          1992.78,\n          2661.02,\n          2381.68\n        ],\n        \"semantic_type\": \"\",\n        \"description\": \"\"\n      }\n    },\n    {\n      \"column\": \"\\u041c\\u0430\\u0442\\u0435\\u0440\\u0456\\u0430\\u043b\",\n      \"properties\": {\n        \"dtype\": \"category\",\n        \"num_unique_values\": 4,\n        \"samples\": [\n          \"\\u0417\\u0430\\u043b\\u0456\\u0437\\u043e\",\n          \"\\u041b\\u044c\\u043e\\u043d\",\n          \"\\u0421\\u043a\\u043b\\u043e\"\n        ],\n        \"semantic_type\": \"\",\n        \"description\": \"\"\n      }\n    },\n    {\n      \"column\": \"\\u0412\\u0430\\u0440\\u0442\\u0456\\u0441\\u0442\\u044c (\\u0433\\u0440\\u043d)\",\n      \"properties\": {\n        \"dtype\": \"number\",\n        \"std\": 180.383242904149,\n        \"min\": 363.32,\n        \"max\": 1641.87,\n        \"num_unique_values\": 3094,\n        \"samples\": [\n          982.5,\n          797.86,\n          1098.05\n        ],\n        \"semantic_type\": \"\",\n        \"description\": \"\"\n      }\n    },\n    {\n      \"column\": \"\\u0421\\u0442\\u0430\\u0442\\u0443\\u0441 \\u043f\\u0440\\u043e\\u0454\\u043a\\u0442\\u0430\",\n      \"properties\": {\n        \"dtype\": \"category\",\n        \"num_unique_values\": 2,\n        \"samples\": [\n          \"\\u0423\\u0437\\u0433\\u043e\\u0434\\u0436\\u0435\\u043d\\u043e\",\n          \"\\u0417\\u0430\\u0431\\u043b\\u043e\\u043a\\u043e\\u0432\\u0430\\u043d\\u043e\"\n        ],\n        \"semantic_type\": \"\",\n        \"description\": \"\"\n      }\n    }\n  ]\n}"
            }
          },
          "metadata": {},
          "execution_count": 63
        }
      ],
      "source": [
        "import pandas as pd\n",
        "from sklearn.model_selection import train_test_split, cross_val_score\n",
        "from sklearn.preprocessing import StandardScaler\n",
        "from sklearn.linear_model import LogisticRegression\n",
        "from sklearn.naive_bayes import GaussianNB\n",
        "from sklearn.metrics import accuracy_score\n",
        "df = pd.read_csv(\"2.csv\")\n",
        "df"
      ]
    },
    {
      "cell_type": "markdown",
      "source": [
        "## 2. Визначаю числові, категорійні впорядковані, категорійні невпорядковані змінні. Для кожної категорійної змінної пишу код, який виводить всі унікальні значення, котрі вона набуває в наборі даних."
      ],
      "metadata": {
        "id": "kziVtq6jenS0"
      }
    },
    {
      "cell_type": "code",
      "source": [
        "# 1. Числові змінні\n",
        "numerical_vars = ['Потужність (л/г)', 'Відстань від джерела (км)', 'Вартість (грн)']"
      ],
      "metadata": {
        "id": "mGF3RtWVfBxX"
      },
      "execution_count": 64,
      "outputs": []
    },
    {
      "cell_type": "code",
      "source": [
        "# 2. Категорійні впорядковані змінні\n",
        "ordinal_vars = ['Якість']"
      ],
      "metadata": {
        "id": "Loh0tQ-yhImQ"
      },
      "execution_count": 65,
      "outputs": []
    },
    {
      "cell_type": "code",
      "source": [
        "# 3. Категорійні невпорядковані змінні\n",
        "categorical_vars = ['Тара', 'Структура', 'Матеріал', 'Статус проєкта']"
      ],
      "metadata": {
        "id": "g0uR6IHRhLKm"
      },
      "execution_count": 66,
      "outputs": []
    },
    {
      "cell_type": "code",
      "source": [
        "df['Якість'].unique()"
      ],
      "metadata": {
        "colab": {
          "base_uri": "https://localhost:8080/"
        },
        "id": "x3xSr2B5hSnO",
        "outputId": "efd98056-036f-4397-ec57-ab3c95f76885"
      },
      "execution_count": 67,
      "outputs": [
        {
          "output_type": "execute_result",
          "data": {
            "text/plain": [
              "array(['Низька', 'Дуже низька', 'Середня', 'Висока'], dtype=object)"
            ]
          },
          "metadata": {},
          "execution_count": 67
        }
      ]
    },
    {
      "cell_type": "code",
      "source": [
        "df['Тара'].unique()"
      ],
      "metadata": {
        "colab": {
          "base_uri": "https://localhost:8080/"
        },
        "id": "DTGtIwrBhWQr",
        "outputId": "73b40380-4477-4372-8df4-e6891d7cde15"
      },
      "execution_count": 68,
      "outputs": [
        {
          "output_type": "execute_result",
          "data": {
            "text/plain": [
              "array(['Особливе замовлення', 'Каністра', 'Своя', 'Бочка'], dtype=object)"
            ]
          },
          "metadata": {},
          "execution_count": 68
        }
      ]
    },
    {
      "cell_type": "code",
      "source": [
        "df['Структура'].unique()"
      ],
      "metadata": {
        "colab": {
          "base_uri": "https://localhost:8080/"
        },
        "id": "Dw5ZdxQrhZBn",
        "outputId": "8c9ff1fd-7573-4173-b9ff-f2960f7adbb2"
      },
      "execution_count": 69,
      "outputs": [
        {
          "output_type": "execute_result",
          "data": {
            "text/plain": [
              "array(['Ромбовидна', 'Фрактальна', 'Решітка'], dtype=object)"
            ]
          },
          "metadata": {},
          "execution_count": 69
        }
      ]
    },
    {
      "cell_type": "code",
      "source": [
        "df['Матеріал'].unique()"
      ],
      "metadata": {
        "colab": {
          "base_uri": "https://localhost:8080/"
        },
        "id": "r-HfdXP7hbFu",
        "outputId": "f377dd91-2f98-46a6-a194-82e1e6372e6b"
      },
      "execution_count": 70,
      "outputs": [
        {
          "output_type": "execute_result",
          "data": {
            "text/plain": [
              "array(['Скло', 'Залізо', 'Поліпропілен', 'Льон'], dtype=object)"
            ]
          },
          "metadata": {},
          "execution_count": 70
        }
      ]
    },
    {
      "cell_type": "code",
      "source": [
        "df['Статус проєкта'].unique()"
      ],
      "metadata": {
        "colab": {
          "base_uri": "https://localhost:8080/"
        },
        "id": "dCrGOpaghdxO",
        "outputId": "d0eefdcc-8b84-4ff7-d6cd-2e27bf4454eb"
      },
      "execution_count": 71,
      "outputs": [
        {
          "output_type": "execute_result",
          "data": {
            "text/plain": [
              "array(['Заблоковано', 'Узгоджено'], dtype=object)"
            ]
          },
          "metadata": {},
          "execution_count": 71
        }
      ]
    },
    {
      "cell_type": "markdown",
      "source": [
        "## 3. Я здійснила кодування категорійних ознак: впорядковані змінні закодовано числовими значеннями (0, 1, 2, 3 відповідно до рівня ознаки), а до невпорядкованих застосовано опорне (one-hot) кодування."
      ],
      "metadata": {
        "id": "b0ZHlJ24hpCN"
      }
    },
    {
      "cell_type": "code",
      "source": [
        "# Копіюємо набір\n",
        "df_encoded = df.copy()"
      ],
      "metadata": {
        "id": "0uOJ0WQoob5i"
      },
      "execution_count": 72,
      "outputs": []
    },
    {
      "cell_type": "code",
      "source": [
        "quality_order = {'Дуже низька': 0, 'Низька': 1, 'Середня': 2, 'Висока': 3}\n",
        "df_encoded['Якість'] = df_encoded['Якість'].map(quality_order)"
      ],
      "metadata": {
        "id": "2cYcGN1GnV8W"
      },
      "execution_count": 73,
      "outputs": []
    },
    {
      "cell_type": "code",
      "source": [
        "# One-hot encoding для решти змінних\n",
        "df_encoded = pd.get_dummies(\n",
        "    df_encoded,\n",
        "    columns=['Тара', 'Структура', 'Матеріал', 'Статус проєкта'],\n",
        "    drop_first=True,\n",
        "    dtype=int\n",
        ")"
      ],
      "metadata": {
        "id": "ib34h3Kiosx2"
      },
      "execution_count": 74,
      "outputs": []
    },
    {
      "cell_type": "code",
      "source": [
        "df_encoded.head()"
      ],
      "metadata": {
        "colab": {
          "base_uri": "https://localhost:8080/",
          "height": 278
        },
        "id": "C0vs2hLbnfUq",
        "outputId": "f36bf846-52c1-4fa0-f7b8-73ac8bd11c06"
      },
      "execution_count": 75,
      "outputs": [
        {
          "output_type": "execute_result",
          "data": {
            "text/plain": [
              "   Потужність (л/г)  Якість  Відстань від джерела (км)  Вартість (грн)  \\\n",
              "0             38.33       1                    2479.88          954.65   \n",
              "1             76.99       0                    1825.69         1216.99   \n",
              "2             48.72       0                    2034.32          861.93   \n",
              "3             63.23       1                    2518.65         1055.64   \n",
              "4             24.63       0                    2661.19         1063.26   \n",
              "\n",
              "   Тара_Каністра  Тара_Особливе замовлення  Тара_Своя  Структура_Ромбовидна  \\\n",
              "0              0                         1          0                     1   \n",
              "1              0                         1          0                     0   \n",
              "2              1                         0          0                     0   \n",
              "3              0                         0          1                     1   \n",
              "4              0                         0          0                     0   \n",
              "\n",
              "   Структура_Фрактальна  Матеріал_Льон  Матеріал_Поліпропілен  Матеріал_Скло  \\\n",
              "0                     0              0                      0              1   \n",
              "1                     1              0                      0              0   \n",
              "2                     0              0                      0              0   \n",
              "3                     0              0                      1              0   \n",
              "4                     1              0                      0              1   \n",
              "\n",
              "   Статус проєкта_Узгоджено  \n",
              "0                         0  \n",
              "1                         1  \n",
              "2                         1  \n",
              "3                         0  \n",
              "4                         0  "
            ],
            "text/html": [
              "\n",
              "  <div id=\"df-6f904c5e-f0d4-424c-b986-bebfca032c30\" class=\"colab-df-container\">\n",
              "    <div>\n",
              "<style scoped>\n",
              "    .dataframe tbody tr th:only-of-type {\n",
              "        vertical-align: middle;\n",
              "    }\n",
              "\n",
              "    .dataframe tbody tr th {\n",
              "        vertical-align: top;\n",
              "    }\n",
              "\n",
              "    .dataframe thead th {\n",
              "        text-align: right;\n",
              "    }\n",
              "</style>\n",
              "<table border=\"1\" class=\"dataframe\">\n",
              "  <thead>\n",
              "    <tr style=\"text-align: right;\">\n",
              "      <th></th>\n",
              "      <th>Потужність (л/г)</th>\n",
              "      <th>Якість</th>\n",
              "      <th>Відстань від джерела (км)</th>\n",
              "      <th>Вартість (грн)</th>\n",
              "      <th>Тара_Каністра</th>\n",
              "      <th>Тара_Особливе замовлення</th>\n",
              "      <th>Тара_Своя</th>\n",
              "      <th>Структура_Ромбовидна</th>\n",
              "      <th>Структура_Фрактальна</th>\n",
              "      <th>Матеріал_Льон</th>\n",
              "      <th>Матеріал_Поліпропілен</th>\n",
              "      <th>Матеріал_Скло</th>\n",
              "      <th>Статус проєкта_Узгоджено</th>\n",
              "    </tr>\n",
              "  </thead>\n",
              "  <tbody>\n",
              "    <tr>\n",
              "      <th>0</th>\n",
              "      <td>38.33</td>\n",
              "      <td>1</td>\n",
              "      <td>2479.88</td>\n",
              "      <td>954.65</td>\n",
              "      <td>0</td>\n",
              "      <td>1</td>\n",
              "      <td>0</td>\n",
              "      <td>1</td>\n",
              "      <td>0</td>\n",
              "      <td>0</td>\n",
              "      <td>0</td>\n",
              "      <td>1</td>\n",
              "      <td>0</td>\n",
              "    </tr>\n",
              "    <tr>\n",
              "      <th>1</th>\n",
              "      <td>76.99</td>\n",
              "      <td>0</td>\n",
              "      <td>1825.69</td>\n",
              "      <td>1216.99</td>\n",
              "      <td>0</td>\n",
              "      <td>1</td>\n",
              "      <td>0</td>\n",
              "      <td>0</td>\n",
              "      <td>1</td>\n",
              "      <td>0</td>\n",
              "      <td>0</td>\n",
              "      <td>0</td>\n",
              "      <td>1</td>\n",
              "    </tr>\n",
              "    <tr>\n",
              "      <th>2</th>\n",
              "      <td>48.72</td>\n",
              "      <td>0</td>\n",
              "      <td>2034.32</td>\n",
              "      <td>861.93</td>\n",
              "      <td>1</td>\n",
              "      <td>0</td>\n",
              "      <td>0</td>\n",
              "      <td>0</td>\n",
              "      <td>0</td>\n",
              "      <td>0</td>\n",
              "      <td>0</td>\n",
              "      <td>0</td>\n",
              "      <td>1</td>\n",
              "    </tr>\n",
              "    <tr>\n",
              "      <th>3</th>\n",
              "      <td>63.23</td>\n",
              "      <td>1</td>\n",
              "      <td>2518.65</td>\n",
              "      <td>1055.64</td>\n",
              "      <td>0</td>\n",
              "      <td>0</td>\n",
              "      <td>1</td>\n",
              "      <td>1</td>\n",
              "      <td>0</td>\n",
              "      <td>0</td>\n",
              "      <td>1</td>\n",
              "      <td>0</td>\n",
              "      <td>0</td>\n",
              "    </tr>\n",
              "    <tr>\n",
              "      <th>4</th>\n",
              "      <td>24.63</td>\n",
              "      <td>0</td>\n",
              "      <td>2661.19</td>\n",
              "      <td>1063.26</td>\n",
              "      <td>0</td>\n",
              "      <td>0</td>\n",
              "      <td>0</td>\n",
              "      <td>0</td>\n",
              "      <td>1</td>\n",
              "      <td>0</td>\n",
              "      <td>0</td>\n",
              "      <td>1</td>\n",
              "      <td>0</td>\n",
              "    </tr>\n",
              "  </tbody>\n",
              "</table>\n",
              "</div>\n",
              "    <div class=\"colab-df-buttons\">\n",
              "\n",
              "  <div class=\"colab-df-container\">\n",
              "    <button class=\"colab-df-convert\" onclick=\"convertToInteractive('df-6f904c5e-f0d4-424c-b986-bebfca032c30')\"\n",
              "            title=\"Convert this dataframe to an interactive table.\"\n",
              "            style=\"display:none;\">\n",
              "\n",
              "  <svg xmlns=\"http://www.w3.org/2000/svg\" height=\"24px\" viewBox=\"0 -960 960 960\">\n",
              "    <path d=\"M120-120v-720h720v720H120Zm60-500h600v-160H180v160Zm220 220h160v-160H400v160Zm0 220h160v-160H400v160ZM180-400h160v-160H180v160Zm440 0h160v-160H620v160ZM180-180h160v-160H180v160Zm440 0h160v-160H620v160Z\"/>\n",
              "  </svg>\n",
              "    </button>\n",
              "\n",
              "  <style>\n",
              "    .colab-df-container {\n",
              "      display:flex;\n",
              "      gap: 12px;\n",
              "    }\n",
              "\n",
              "    .colab-df-convert {\n",
              "      background-color: #E8F0FE;\n",
              "      border: none;\n",
              "      border-radius: 50%;\n",
              "      cursor: pointer;\n",
              "      display: none;\n",
              "      fill: #1967D2;\n",
              "      height: 32px;\n",
              "      padding: 0 0 0 0;\n",
              "      width: 32px;\n",
              "    }\n",
              "\n",
              "    .colab-df-convert:hover {\n",
              "      background-color: #E2EBFA;\n",
              "      box-shadow: 0px 1px 2px rgba(60, 64, 67, 0.3), 0px 1px 3px 1px rgba(60, 64, 67, 0.15);\n",
              "      fill: #174EA6;\n",
              "    }\n",
              "\n",
              "    .colab-df-buttons div {\n",
              "      margin-bottom: 4px;\n",
              "    }\n",
              "\n",
              "    [theme=dark] .colab-df-convert {\n",
              "      background-color: #3B4455;\n",
              "      fill: #D2E3FC;\n",
              "    }\n",
              "\n",
              "    [theme=dark] .colab-df-convert:hover {\n",
              "      background-color: #434B5C;\n",
              "      box-shadow: 0px 1px 3px 1px rgba(0, 0, 0, 0.15);\n",
              "      filter: drop-shadow(0px 1px 2px rgba(0, 0, 0, 0.3));\n",
              "      fill: #FFFFFF;\n",
              "    }\n",
              "  </style>\n",
              "\n",
              "    <script>\n",
              "      const buttonEl =\n",
              "        document.querySelector('#df-6f904c5e-f0d4-424c-b986-bebfca032c30 button.colab-df-convert');\n",
              "      buttonEl.style.display =\n",
              "        google.colab.kernel.accessAllowed ? 'block' : 'none';\n",
              "\n",
              "      async function convertToInteractive(key) {\n",
              "        const element = document.querySelector('#df-6f904c5e-f0d4-424c-b986-bebfca032c30');\n",
              "        const dataTable =\n",
              "          await google.colab.kernel.invokeFunction('convertToInteractive',\n",
              "                                                    [key], {});\n",
              "        if (!dataTable) return;\n",
              "\n",
              "        const docLinkHtml = 'Like what you see? Visit the ' +\n",
              "          '<a target=\"_blank\" href=https://colab.research.google.com/notebooks/data_table.ipynb>data table notebook</a>'\n",
              "          + ' to learn more about interactive tables.';\n",
              "        element.innerHTML = '';\n",
              "        dataTable['output_type'] = 'display_data';\n",
              "        await google.colab.output.renderOutput(dataTable, element);\n",
              "        const docLink = document.createElement('div');\n",
              "        docLink.innerHTML = docLinkHtml;\n",
              "        element.appendChild(docLink);\n",
              "      }\n",
              "    </script>\n",
              "  </div>\n",
              "\n",
              "\n",
              "    <div id=\"df-6fdb0f5b-78e4-400f-9728-f1e7cff73cbf\">\n",
              "      <button class=\"colab-df-quickchart\" onclick=\"quickchart('df-6fdb0f5b-78e4-400f-9728-f1e7cff73cbf')\"\n",
              "                title=\"Suggest charts\"\n",
              "                style=\"display:none;\">\n",
              "\n",
              "<svg xmlns=\"http://www.w3.org/2000/svg\" height=\"24px\"viewBox=\"0 0 24 24\"\n",
              "     width=\"24px\">\n",
              "    <g>\n",
              "        <path d=\"M19 3H5c-1.1 0-2 .9-2 2v14c0 1.1.9 2 2 2h14c1.1 0 2-.9 2-2V5c0-1.1-.9-2-2-2zM9 17H7v-7h2v7zm4 0h-2V7h2v10zm4 0h-2v-4h2v4z\"/>\n",
              "    </g>\n",
              "</svg>\n",
              "      </button>\n",
              "\n",
              "<style>\n",
              "  .colab-df-quickchart {\n",
              "      --bg-color: #E8F0FE;\n",
              "      --fill-color: #1967D2;\n",
              "      --hover-bg-color: #E2EBFA;\n",
              "      --hover-fill-color: #174EA6;\n",
              "      --disabled-fill-color: #AAA;\n",
              "      --disabled-bg-color: #DDD;\n",
              "  }\n",
              "\n",
              "  [theme=dark] .colab-df-quickchart {\n",
              "      --bg-color: #3B4455;\n",
              "      --fill-color: #D2E3FC;\n",
              "      --hover-bg-color: #434B5C;\n",
              "      --hover-fill-color: #FFFFFF;\n",
              "      --disabled-bg-color: #3B4455;\n",
              "      --disabled-fill-color: #666;\n",
              "  }\n",
              "\n",
              "  .colab-df-quickchart {\n",
              "    background-color: var(--bg-color);\n",
              "    border: none;\n",
              "    border-radius: 50%;\n",
              "    cursor: pointer;\n",
              "    display: none;\n",
              "    fill: var(--fill-color);\n",
              "    height: 32px;\n",
              "    padding: 0;\n",
              "    width: 32px;\n",
              "  }\n",
              "\n",
              "  .colab-df-quickchart:hover {\n",
              "    background-color: var(--hover-bg-color);\n",
              "    box-shadow: 0 1px 2px rgba(60, 64, 67, 0.3), 0 1px 3px 1px rgba(60, 64, 67, 0.15);\n",
              "    fill: var(--button-hover-fill-color);\n",
              "  }\n",
              "\n",
              "  .colab-df-quickchart-complete:disabled,\n",
              "  .colab-df-quickchart-complete:disabled:hover {\n",
              "    background-color: var(--disabled-bg-color);\n",
              "    fill: var(--disabled-fill-color);\n",
              "    box-shadow: none;\n",
              "  }\n",
              "\n",
              "  .colab-df-spinner {\n",
              "    border: 2px solid var(--fill-color);\n",
              "    border-color: transparent;\n",
              "    border-bottom-color: var(--fill-color);\n",
              "    animation:\n",
              "      spin 1s steps(1) infinite;\n",
              "  }\n",
              "\n",
              "  @keyframes spin {\n",
              "    0% {\n",
              "      border-color: transparent;\n",
              "      border-bottom-color: var(--fill-color);\n",
              "      border-left-color: var(--fill-color);\n",
              "    }\n",
              "    20% {\n",
              "      border-color: transparent;\n",
              "      border-left-color: var(--fill-color);\n",
              "      border-top-color: var(--fill-color);\n",
              "    }\n",
              "    30% {\n",
              "      border-color: transparent;\n",
              "      border-left-color: var(--fill-color);\n",
              "      border-top-color: var(--fill-color);\n",
              "      border-right-color: var(--fill-color);\n",
              "    }\n",
              "    40% {\n",
              "      border-color: transparent;\n",
              "      border-right-color: var(--fill-color);\n",
              "      border-top-color: var(--fill-color);\n",
              "    }\n",
              "    60% {\n",
              "      border-color: transparent;\n",
              "      border-right-color: var(--fill-color);\n",
              "    }\n",
              "    80% {\n",
              "      border-color: transparent;\n",
              "      border-right-color: var(--fill-color);\n",
              "      border-bottom-color: var(--fill-color);\n",
              "    }\n",
              "    90% {\n",
              "      border-color: transparent;\n",
              "      border-bottom-color: var(--fill-color);\n",
              "    }\n",
              "  }\n",
              "</style>\n",
              "\n",
              "      <script>\n",
              "        async function quickchart(key) {\n",
              "          const quickchartButtonEl =\n",
              "            document.querySelector('#' + key + ' button');\n",
              "          quickchartButtonEl.disabled = true;  // To prevent multiple clicks.\n",
              "          quickchartButtonEl.classList.add('colab-df-spinner');\n",
              "          try {\n",
              "            const charts = await google.colab.kernel.invokeFunction(\n",
              "                'suggestCharts', [key], {});\n",
              "          } catch (error) {\n",
              "            console.error('Error during call to suggestCharts:', error);\n",
              "          }\n",
              "          quickchartButtonEl.classList.remove('colab-df-spinner');\n",
              "          quickchartButtonEl.classList.add('colab-df-quickchart-complete');\n",
              "        }\n",
              "        (() => {\n",
              "          let quickchartButtonEl =\n",
              "            document.querySelector('#df-6fdb0f5b-78e4-400f-9728-f1e7cff73cbf button');\n",
              "          quickchartButtonEl.style.display =\n",
              "            google.colab.kernel.accessAllowed ? 'block' : 'none';\n",
              "        })();\n",
              "      </script>\n",
              "    </div>\n",
              "    </div>\n",
              "  </div>\n"
            ],
            "application/vnd.google.colaboratory.intrinsic+json": {
              "type": "dataframe",
              "variable_name": "df_encoded",
              "summary": "{\n  \"name\": \"df_encoded\",\n  \"rows\": 5000,\n  \"fields\": [\n    {\n      \"column\": \"\\u041f\\u043e\\u0442\\u0443\\u0436\\u043d\\u0456\\u0441\\u0442\\u044c (\\u043b/\\u0433)\",\n      \"properties\": {\n        \"dtype\": \"number\",\n        \"std\": 14.911581773177492,\n        \"min\": -12.51,\n        \"max\": 104.88,\n        \"num_unique_values\": 2425,\n        \"samples\": [\n          38.14,\n          73.78,\n          48.13\n        ],\n        \"semantic_type\": \"\",\n        \"description\": \"\"\n      }\n    },\n    {\n      \"column\": \"\\u042f\\u043a\\u0456\\u0441\\u0442\\u044c\",\n      \"properties\": {\n        \"dtype\": \"number\",\n        \"std\": 1,\n        \"min\": 0,\n        \"max\": 3,\n        \"num_unique_values\": 4,\n        \"samples\": [\n          0,\n          3,\n          1\n        ],\n        \"semantic_type\": \"\",\n        \"description\": \"\"\n      }\n    },\n    {\n      \"column\": \"\\u0412\\u0456\\u0434\\u0441\\u0442\\u0430\\u043d\\u044c \\u0432\\u0456\\u0434 \\u0434\\u0436\\u0435\\u0440\\u0435\\u043b\\u0430 (\\u043a\\u043c)\",\n      \"properties\": {\n        \"dtype\": \"number\",\n        \"std\": 325.9932208004599,\n        \"min\": 1371.01,\n        \"max\": 3745.21,\n        \"num_unique_values\": 3145,\n        \"samples\": [\n          1992.78,\n          2661.02,\n          2381.68\n        ],\n        \"semantic_type\": \"\",\n        \"description\": \"\"\n      }\n    },\n    {\n      \"column\": \"\\u0412\\u0430\\u0440\\u0442\\u0456\\u0441\\u0442\\u044c (\\u0433\\u0440\\u043d)\",\n      \"properties\": {\n        \"dtype\": \"number\",\n        \"std\": 180.383242904149,\n        \"min\": 363.32,\n        \"max\": 1641.87,\n        \"num_unique_values\": 3094,\n        \"samples\": [\n          982.5,\n          797.86,\n          1098.05\n        ],\n        \"semantic_type\": \"\",\n        \"description\": \"\"\n      }\n    },\n    {\n      \"column\": \"\\u0422\\u0430\\u0440\\u0430_\\u041a\\u0430\\u043d\\u0456\\u0441\\u0442\\u0440\\u0430\",\n      \"properties\": {\n        \"dtype\": \"number\",\n        \"std\": 0,\n        \"min\": 0,\n        \"max\": 1,\n        \"num_unique_values\": 2,\n        \"samples\": [\n          1,\n          0\n        ],\n        \"semantic_type\": \"\",\n        \"description\": \"\"\n      }\n    },\n    {\n      \"column\": \"\\u0422\\u0430\\u0440\\u0430_\\u041e\\u0441\\u043e\\u0431\\u043b\\u0438\\u0432\\u0435 \\u0437\\u0430\\u043c\\u043e\\u0432\\u043b\\u0435\\u043d\\u043d\\u044f\",\n      \"properties\": {\n        \"dtype\": \"number\",\n        \"std\": 0,\n        \"min\": 0,\n        \"max\": 1,\n        \"num_unique_values\": 2,\n        \"samples\": [\n          0,\n          1\n        ],\n        \"semantic_type\": \"\",\n        \"description\": \"\"\n      }\n    },\n    {\n      \"column\": \"\\u0422\\u0430\\u0440\\u0430_\\u0421\\u0432\\u043e\\u044f\",\n      \"properties\": {\n        \"dtype\": \"number\",\n        \"std\": 0,\n        \"min\": 0,\n        \"max\": 1,\n        \"num_unique_values\": 2,\n        \"samples\": [\n          1,\n          0\n        ],\n        \"semantic_type\": \"\",\n        \"description\": \"\"\n      }\n    },\n    {\n      \"column\": \"\\u0421\\u0442\\u0440\\u0443\\u043a\\u0442\\u0443\\u0440\\u0430_\\u0420\\u043e\\u043c\\u0431\\u043e\\u0432\\u0438\\u0434\\u043d\\u0430\",\n      \"properties\": {\n        \"dtype\": \"number\",\n        \"std\": 0,\n        \"min\": 0,\n        \"max\": 1,\n        \"num_unique_values\": 2,\n        \"samples\": [\n          0,\n          1\n        ],\n        \"semantic_type\": \"\",\n        \"description\": \"\"\n      }\n    },\n    {\n      \"column\": \"\\u0421\\u0442\\u0440\\u0443\\u043a\\u0442\\u0443\\u0440\\u0430_\\u0424\\u0440\\u0430\\u043a\\u0442\\u0430\\u043b\\u044c\\u043d\\u0430\",\n      \"properties\": {\n        \"dtype\": \"number\",\n        \"std\": 0,\n        \"min\": 0,\n        \"max\": 1,\n        \"num_unique_values\": 2,\n        \"samples\": [\n          1,\n          0\n        ],\n        \"semantic_type\": \"\",\n        \"description\": \"\"\n      }\n    },\n    {\n      \"column\": \"\\u041c\\u0430\\u0442\\u0435\\u0440\\u0456\\u0430\\u043b_\\u041b\\u044c\\u043e\\u043d\",\n      \"properties\": {\n        \"dtype\": \"number\",\n        \"std\": 0,\n        \"min\": 0,\n        \"max\": 1,\n        \"num_unique_values\": 2,\n        \"samples\": [\n          1,\n          0\n        ],\n        \"semantic_type\": \"\",\n        \"description\": \"\"\n      }\n    },\n    {\n      \"column\": \"\\u041c\\u0430\\u0442\\u0435\\u0440\\u0456\\u0430\\u043b_\\u041f\\u043e\\u043b\\u0456\\u043f\\u0440\\u043e\\u043f\\u0456\\u043b\\u0435\\u043d\",\n      \"properties\": {\n        \"dtype\": \"number\",\n        \"std\": 0,\n        \"min\": 0,\n        \"max\": 1,\n        \"num_unique_values\": 2,\n        \"samples\": [\n          1,\n          0\n        ],\n        \"semantic_type\": \"\",\n        \"description\": \"\"\n      }\n    },\n    {\n      \"column\": \"\\u041c\\u0430\\u0442\\u0435\\u0440\\u0456\\u0430\\u043b_\\u0421\\u043a\\u043b\\u043e\",\n      \"properties\": {\n        \"dtype\": \"number\",\n        \"std\": 0,\n        \"min\": 0,\n        \"max\": 1,\n        \"num_unique_values\": 2,\n        \"samples\": [\n          0,\n          1\n        ],\n        \"semantic_type\": \"\",\n        \"description\": \"\"\n      }\n    },\n    {\n      \"column\": \"\\u0421\\u0442\\u0430\\u0442\\u0443\\u0441 \\u043f\\u0440\\u043e\\u0454\\u043a\\u0442\\u0430_\\u0423\\u0437\\u0433\\u043e\\u0434\\u0436\\u0435\\u043d\\u043e\",\n      \"properties\": {\n        \"dtype\": \"number\",\n        \"std\": 0,\n        \"min\": 0,\n        \"max\": 1,\n        \"num_unique_values\": 2,\n        \"samples\": [\n          1,\n          0\n        ],\n        \"semantic_type\": \"\",\n        \"description\": \"\"\n      }\n    }\n  ]\n}"
            }
          },
          "metadata": {},
          "execution_count": 75
        }
      ]
    },
    {
      "cell_type": "markdown",
      "source": [
        "## 4.  Застосовую методи логістичної регресії та наївного Баєса до оброблених даних для передбачення змінної «Статус проєкта». На крос-валідації обераю кращу модель."
      ],
      "metadata": {
        "id": "3eIf_555pXMY"
      }
    },
    {
      "cell_type": "code",
      "source": [
        "# 2. Визначаю ознаки (X) та цільову змінну (y)\n",
        "X = df_encoded.drop('Статус проєкта_Узгоджено', axis=1)\n",
        "y = df_encoded['Статус проєкта_Узгоджено']"
      ],
      "metadata": {
        "id": "M8CnVEhLqyAN"
      },
      "execution_count": 76,
      "outputs": []
    },
    {
      "cell_type": "code",
      "source": [
        "# 3. Масштабую числові ознаки (для логістичної регресії це важливо)\n",
        "scaler = StandardScaler()\n",
        "X_scaled = scaler.fit_transform(X)"
      ],
      "metadata": {
        "id": "XVjNRFO0rgmq"
      },
      "execution_count": 77,
      "outputs": []
    },
    {
      "cell_type": "code",
      "source": [
        "# 4. Створюю моделі\n",
        "log_reg = LogisticRegression(max_iter=1000, random_state=42)\n",
        "nb = GaussianNB()"
      ],
      "metadata": {
        "id": "BEM0iP7qrkPH"
      },
      "execution_count": 78,
      "outputs": []
    },
    {
      "cell_type": "code",
      "source": [
        "# 5. Проводжу крос-валідацію для обох моделей (5 фолдів)\n",
        "cv_log = cross_val_score(log_reg, X_scaled, y, cv=5, scoring='accuracy')\n",
        "cv_nb = cross_val_score(nb, X_scaled, y, cv=5, scoring='accuracy')"
      ],
      "metadata": {
        "id": "HrB4JGYWrwSd"
      },
      "execution_count": 79,
      "outputs": []
    },
    {
      "cell_type": "code",
      "source": [
        "# 6. Виводжу середню точність для кожної моделі\n",
        "print(\"Середня точність логістичної регресії:\", cv_log.mean())\n",
        "print(\"Середня точність наївного Байєса:\", cv_nb.mean())"
      ],
      "metadata": {
        "colab": {
          "base_uri": "https://localhost:8080/"
        },
        "id": "B_-cd85Ar-6_",
        "outputId": "320e1f73-13a4-4c36-9515-f95496e70e88"
      },
      "execution_count": 80,
      "outputs": [
        {
          "output_type": "stream",
          "name": "stdout",
          "text": [
            "Середня точність логістичної регресії: 0.9954000000000001\n",
            "Середня точність наївного Байєса: 0.9454\n"
          ]
        }
      ]
    },
    {
      "cell_type": "code",
      "source": [
        "# 7. Визначаю, яка модель краща\n",
        "if cv_log.mean() > cv_nb.mean():\n",
        "    print(\"Краща модель: Логістична регресія\")\n",
        "else:\n",
        "    print(\"Краща модель: Наївний Байєс\")"
      ],
      "metadata": {
        "colab": {
          "base_uri": "https://localhost:8080/"
        },
        "id": "UBU5CLtMsEiK",
        "outputId": "a210048f-8ff2-40bf-ea7e-fbdcc5a53f16"
      },
      "execution_count": 81,
      "outputs": [
        {
          "output_type": "stream",
          "name": "stdout",
          "text": [
            "Краща модель: Логістична регресія\n"
          ]
        }
      ]
    }
  ]
}