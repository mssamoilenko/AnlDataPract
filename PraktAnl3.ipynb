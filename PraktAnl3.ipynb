{
  "nbformat": 4,
  "nbformat_minor": 0,
  "metadata": {
    "colab": {
      "provenance": [],
      "authorship_tag": "ABX9TyPuDDX/l25H2XXU0quwAkAw",
      "include_colab_link": true
    },
    "kernelspec": {
      "name": "python3",
      "display_name": "Python 3"
    },
    "language_info": {
      "name": "python"
    }
  },
  "cells": [
    {
      "cell_type": "markdown",
      "metadata": {
        "id": "view-in-github",
        "colab_type": "text"
      },
      "source": [
        "<a href=\"https://colab.research.google.com/github/mssamoilenko/AnlDataPract/blob/main/PraktAnl3.ipynb\" target=\"_parent\"><img src=\"https://colab.research.google.com/assets/colab-badge.svg\" alt=\"Open In Colab\"/></a>"
      ]
    },
    {
      "cell_type": "markdown",
      "source": [
        "# Практична робота №3\n",
        "## Тема: класифікація за допомогою логістичної\n",
        "## регресії та наївного Баєса.\n",
        "## Мета: закріплення навичок роботи із категорійними даними, їх по\n",
        "## передньої обробки та класифікація даних.\n",
        "## Завдання\n",
        "## 1.    Використати дані відповідно до власного варіанта (в мене це варіант №2). Вивести таблицю за допомогою Pandas.\n",
        "## 2.   Визначити числові, категорійні впорядковані, категорійні невпорядковані\n",
        "## змінні. Для кожної категорійної змінної написати код, який виводить всі\n",
        "## унікальні значення, котрі вона набуває в наборі даних.\n",
        "## 3.   Закодувати категорійні впорядковані числами 0, 1, 2… (або іншими\n",
        "## числами аналогічним чином), до невпорядкованих застосувати опорне\n",
        "## кодування.\n",
        "## 4.   Застосувати методи логістичної регресії та наївного Баєса до оброблених\n",
        "## даних для передбачення змінної «Статус проєкта». На крос-валідації обрати\n",
        "## кращу модель.\n",
        "## Варіант роботи № 2\n",
        "## Хід роботи\n",
        "\n",
        "## 1.   Виводжу таблицю з даними відповідно моєму варіанту.\n",
        "\n",
        "\n",
        "\n",
        "\n",
        "\n"
      ],
      "metadata": {
        "id": "ynWBFikzZNF2"
      }
    },
    {
      "cell_type": "code",
      "execution_count": 1,
      "metadata": {
        "id": "fJ-TD4M6Dtf7",
        "colab": {
          "base_uri": "https://localhost:8080/",
          "height": 424
        },
        "outputId": "677d43c6-e264-4885-af2a-673ddd5ff22d"
      },
      "outputs": [
        {
          "output_type": "execute_result",
          "data": {
            "text/plain": [
              "      Потужність (л/г)                 Тара       Якість   Структура  \\\n",
              "0                38.33  Особливе замовлення       Низька  Ромбовидна   \n",
              "1                76.99  Особливе замовлення  Дуже низька  Фрактальна   \n",
              "2                48.72             Каністра  Дуже низька     Решітка   \n",
              "3                63.23                 Своя       Низька  Ромбовидна   \n",
              "4                24.63                Бочка  Дуже низька  Фрактальна   \n",
              "...                ...                  ...          ...         ...   \n",
              "4995             37.36                Бочка       Висока     Решітка   \n",
              "4996             41.68                Бочка       Висока  Фрактальна   \n",
              "4997             51.92             Каністра      Середня  Ромбовидна   \n",
              "4998             49.98             Каністра      Середня  Фрактальна   \n",
              "4999             63.61                Бочка       Низька  Фрактальна   \n",
              "\n",
              "      Відстань від джерела (км)      Матеріал  Вартість (грн) Статус проєкта  \n",
              "0                       2479.88          Скло          954.65    Заблоковано  \n",
              "1                       1825.69        Залізо         1216.99      Узгоджено  \n",
              "2                       2034.32        Залізо          861.93      Узгоджено  \n",
              "3                       2518.65  Поліпропілен         1055.64    Заблоковано  \n",
              "4                       2661.19          Скло         1063.26    Заблоковано  \n",
              "...                         ...           ...             ...            ...  \n",
              "4995                    2462.35          Льон          911.51    Заблоковано  \n",
              "4996                    2774.46        Залізо         1136.20    Заблоковано  \n",
              "4997                    2482.63          Льон         1056.54      Узгоджено  \n",
              "4998                    1768.00  Поліпропілен         1134.95      Узгоджено  \n",
              "4999                    2113.69        Залізо          791.52      Узгоджено  \n",
              "\n",
              "[5000 rows x 8 columns]"
            ],
            "text/html": [
              "\n",
              "  <div id=\"df-4336950f-f39c-4b24-b05c-e02312c26b27\" class=\"colab-df-container\">\n",
              "    <div>\n",
              "<style scoped>\n",
              "    .dataframe tbody tr th:only-of-type {\n",
              "        vertical-align: middle;\n",
              "    }\n",
              "\n",
              "    .dataframe tbody tr th {\n",
              "        vertical-align: top;\n",
              "    }\n",
              "\n",
              "    .dataframe thead th {\n",
              "        text-align: right;\n",
              "    }\n",
              "</style>\n",
              "<table border=\"1\" class=\"dataframe\">\n",
              "  <thead>\n",
              "    <tr style=\"text-align: right;\">\n",
              "      <th></th>\n",
              "      <th>Потужність (л/г)</th>\n",
              "      <th>Тара</th>\n",
              "      <th>Якість</th>\n",
              "      <th>Структура</th>\n",
              "      <th>Відстань від джерела (км)</th>\n",
              "      <th>Матеріал</th>\n",
              "      <th>Вартість (грн)</th>\n",
              "      <th>Статус проєкта</th>\n",
              "    </tr>\n",
              "  </thead>\n",
              "  <tbody>\n",
              "    <tr>\n",
              "      <th>0</th>\n",
              "      <td>38.33</td>\n",
              "      <td>Особливе замовлення</td>\n",
              "      <td>Низька</td>\n",
              "      <td>Ромбовидна</td>\n",
              "      <td>2479.88</td>\n",
              "      <td>Скло</td>\n",
              "      <td>954.65</td>\n",
              "      <td>Заблоковано</td>\n",
              "    </tr>\n",
              "    <tr>\n",
              "      <th>1</th>\n",
              "      <td>76.99</td>\n",
              "      <td>Особливе замовлення</td>\n",
              "      <td>Дуже низька</td>\n",
              "      <td>Фрактальна</td>\n",
              "      <td>1825.69</td>\n",
              "      <td>Залізо</td>\n",
              "      <td>1216.99</td>\n",
              "      <td>Узгоджено</td>\n",
              "    </tr>\n",
              "    <tr>\n",
              "      <th>2</th>\n",
              "      <td>48.72</td>\n",
              "      <td>Каністра</td>\n",
              "      <td>Дуже низька</td>\n",
              "      <td>Решітка</td>\n",
              "      <td>2034.32</td>\n",
              "      <td>Залізо</td>\n",
              "      <td>861.93</td>\n",
              "      <td>Узгоджено</td>\n",
              "    </tr>\n",
              "    <tr>\n",
              "      <th>3</th>\n",
              "      <td>63.23</td>\n",
              "      <td>Своя</td>\n",
              "      <td>Низька</td>\n",
              "      <td>Ромбовидна</td>\n",
              "      <td>2518.65</td>\n",
              "      <td>Поліпропілен</td>\n",
              "      <td>1055.64</td>\n",
              "      <td>Заблоковано</td>\n",
              "    </tr>\n",
              "    <tr>\n",
              "      <th>4</th>\n",
              "      <td>24.63</td>\n",
              "      <td>Бочка</td>\n",
              "      <td>Дуже низька</td>\n",
              "      <td>Фрактальна</td>\n",
              "      <td>2661.19</td>\n",
              "      <td>Скло</td>\n",
              "      <td>1063.26</td>\n",
              "      <td>Заблоковано</td>\n",
              "    </tr>\n",
              "    <tr>\n",
              "      <th>...</th>\n",
              "      <td>...</td>\n",
              "      <td>...</td>\n",
              "      <td>...</td>\n",
              "      <td>...</td>\n",
              "      <td>...</td>\n",
              "      <td>...</td>\n",
              "      <td>...</td>\n",
              "      <td>...</td>\n",
              "    </tr>\n",
              "    <tr>\n",
              "      <th>4995</th>\n",
              "      <td>37.36</td>\n",
              "      <td>Бочка</td>\n",
              "      <td>Висока</td>\n",
              "      <td>Решітка</td>\n",
              "      <td>2462.35</td>\n",
              "      <td>Льон</td>\n",
              "      <td>911.51</td>\n",
              "      <td>Заблоковано</td>\n",
              "    </tr>\n",
              "    <tr>\n",
              "      <th>4996</th>\n",
              "      <td>41.68</td>\n",
              "      <td>Бочка</td>\n",
              "      <td>Висока</td>\n",
              "      <td>Фрактальна</td>\n",
              "      <td>2774.46</td>\n",
              "      <td>Залізо</td>\n",
              "      <td>1136.20</td>\n",
              "      <td>Заблоковано</td>\n",
              "    </tr>\n",
              "    <tr>\n",
              "      <th>4997</th>\n",
              "      <td>51.92</td>\n",
              "      <td>Каністра</td>\n",
              "      <td>Середня</td>\n",
              "      <td>Ромбовидна</td>\n",
              "      <td>2482.63</td>\n",
              "      <td>Льон</td>\n",
              "      <td>1056.54</td>\n",
              "      <td>Узгоджено</td>\n",
              "    </tr>\n",
              "    <tr>\n",
              "      <th>4998</th>\n",
              "      <td>49.98</td>\n",
              "      <td>Каністра</td>\n",
              "      <td>Середня</td>\n",
              "      <td>Фрактальна</td>\n",
              "      <td>1768.00</td>\n",
              "      <td>Поліпропілен</td>\n",
              "      <td>1134.95</td>\n",
              "      <td>Узгоджено</td>\n",
              "    </tr>\n",
              "    <tr>\n",
              "      <th>4999</th>\n",
              "      <td>63.61</td>\n",
              "      <td>Бочка</td>\n",
              "      <td>Низька</td>\n",
              "      <td>Фрактальна</td>\n",
              "      <td>2113.69</td>\n",
              "      <td>Залізо</td>\n",
              "      <td>791.52</td>\n",
              "      <td>Узгоджено</td>\n",
              "    </tr>\n",
              "  </tbody>\n",
              "</table>\n",
              "<p>5000 rows × 8 columns</p>\n",
              "</div>\n",
              "    <div class=\"colab-df-buttons\">\n",
              "\n",
              "  <div class=\"colab-df-container\">\n",
              "    <button class=\"colab-df-convert\" onclick=\"convertToInteractive('df-4336950f-f39c-4b24-b05c-e02312c26b27')\"\n",
              "            title=\"Convert this dataframe to an interactive table.\"\n",
              "            style=\"display:none;\">\n",
              "\n",
              "  <svg xmlns=\"http://www.w3.org/2000/svg\" height=\"24px\" viewBox=\"0 -960 960 960\">\n",
              "    <path d=\"M120-120v-720h720v720H120Zm60-500h600v-160H180v160Zm220 220h160v-160H400v160Zm0 220h160v-160H400v160ZM180-400h160v-160H180v160Zm440 0h160v-160H620v160ZM180-180h160v-160H180v160Zm440 0h160v-160H620v160Z\"/>\n",
              "  </svg>\n",
              "    </button>\n",
              "\n",
              "  <style>\n",
              "    .colab-df-container {\n",
              "      display:flex;\n",
              "      gap: 12px;\n",
              "    }\n",
              "\n",
              "    .colab-df-convert {\n",
              "      background-color: #E8F0FE;\n",
              "      border: none;\n",
              "      border-radius: 50%;\n",
              "      cursor: pointer;\n",
              "      display: none;\n",
              "      fill: #1967D2;\n",
              "      height: 32px;\n",
              "      padding: 0 0 0 0;\n",
              "      width: 32px;\n",
              "    }\n",
              "\n",
              "    .colab-df-convert:hover {\n",
              "      background-color: #E2EBFA;\n",
              "      box-shadow: 0px 1px 2px rgba(60, 64, 67, 0.3), 0px 1px 3px 1px rgba(60, 64, 67, 0.15);\n",
              "      fill: #174EA6;\n",
              "    }\n",
              "\n",
              "    .colab-df-buttons div {\n",
              "      margin-bottom: 4px;\n",
              "    }\n",
              "\n",
              "    [theme=dark] .colab-df-convert {\n",
              "      background-color: #3B4455;\n",
              "      fill: #D2E3FC;\n",
              "    }\n",
              "\n",
              "    [theme=dark] .colab-df-convert:hover {\n",
              "      background-color: #434B5C;\n",
              "      box-shadow: 0px 1px 3px 1px rgba(0, 0, 0, 0.15);\n",
              "      filter: drop-shadow(0px 1px 2px rgba(0, 0, 0, 0.3));\n",
              "      fill: #FFFFFF;\n",
              "    }\n",
              "  </style>\n",
              "\n",
              "    <script>\n",
              "      const buttonEl =\n",
              "        document.querySelector('#df-4336950f-f39c-4b24-b05c-e02312c26b27 button.colab-df-convert');\n",
              "      buttonEl.style.display =\n",
              "        google.colab.kernel.accessAllowed ? 'block' : 'none';\n",
              "\n",
              "      async function convertToInteractive(key) {\n",
              "        const element = document.querySelector('#df-4336950f-f39c-4b24-b05c-e02312c26b27');\n",
              "        const dataTable =\n",
              "          await google.colab.kernel.invokeFunction('convertToInteractive',\n",
              "                                                    [key], {});\n",
              "        if (!dataTable) return;\n",
              "\n",
              "        const docLinkHtml = 'Like what you see? Visit the ' +\n",
              "          '<a target=\"_blank\" href=https://colab.research.google.com/notebooks/data_table.ipynb>data table notebook</a>'\n",
              "          + ' to learn more about interactive tables.';\n",
              "        element.innerHTML = '';\n",
              "        dataTable['output_type'] = 'display_data';\n",
              "        await google.colab.output.renderOutput(dataTable, element);\n",
              "        const docLink = document.createElement('div');\n",
              "        docLink.innerHTML = docLinkHtml;\n",
              "        element.appendChild(docLink);\n",
              "      }\n",
              "    </script>\n",
              "  </div>\n",
              "\n",
              "\n",
              "    <div id=\"df-e7497060-ed60-422a-b5e5-aa46f7b049f0\">\n",
              "      <button class=\"colab-df-quickchart\" onclick=\"quickchart('df-e7497060-ed60-422a-b5e5-aa46f7b049f0')\"\n",
              "                title=\"Suggest charts\"\n",
              "                style=\"display:none;\">\n",
              "\n",
              "<svg xmlns=\"http://www.w3.org/2000/svg\" height=\"24px\"viewBox=\"0 0 24 24\"\n",
              "     width=\"24px\">\n",
              "    <g>\n",
              "        <path d=\"M19 3H5c-1.1 0-2 .9-2 2v14c0 1.1.9 2 2 2h14c1.1 0 2-.9 2-2V5c0-1.1-.9-2-2-2zM9 17H7v-7h2v7zm4 0h-2V7h2v10zm4 0h-2v-4h2v4z\"/>\n",
              "    </g>\n",
              "</svg>\n",
              "      </button>\n",
              "\n",
              "<style>\n",
              "  .colab-df-quickchart {\n",
              "      --bg-color: #E8F0FE;\n",
              "      --fill-color: #1967D2;\n",
              "      --hover-bg-color: #E2EBFA;\n",
              "      --hover-fill-color: #174EA6;\n",
              "      --disabled-fill-color: #AAA;\n",
              "      --disabled-bg-color: #DDD;\n",
              "  }\n",
              "\n",
              "  [theme=dark] .colab-df-quickchart {\n",
              "      --bg-color: #3B4455;\n",
              "      --fill-color: #D2E3FC;\n",
              "      --hover-bg-color: #434B5C;\n",
              "      --hover-fill-color: #FFFFFF;\n",
              "      --disabled-bg-color: #3B4455;\n",
              "      --disabled-fill-color: #666;\n",
              "  }\n",
              "\n",
              "  .colab-df-quickchart {\n",
              "    background-color: var(--bg-color);\n",
              "    border: none;\n",
              "    border-radius: 50%;\n",
              "    cursor: pointer;\n",
              "    display: none;\n",
              "    fill: var(--fill-color);\n",
              "    height: 32px;\n",
              "    padding: 0;\n",
              "    width: 32px;\n",
              "  }\n",
              "\n",
              "  .colab-df-quickchart:hover {\n",
              "    background-color: var(--hover-bg-color);\n",
              "    box-shadow: 0 1px 2px rgba(60, 64, 67, 0.3), 0 1px 3px 1px rgba(60, 64, 67, 0.15);\n",
              "    fill: var(--button-hover-fill-color);\n",
              "  }\n",
              "\n",
              "  .colab-df-quickchart-complete:disabled,\n",
              "  .colab-df-quickchart-complete:disabled:hover {\n",
              "    background-color: var(--disabled-bg-color);\n",
              "    fill: var(--disabled-fill-color);\n",
              "    box-shadow: none;\n",
              "  }\n",
              "\n",
              "  .colab-df-spinner {\n",
              "    border: 2px solid var(--fill-color);\n",
              "    border-color: transparent;\n",
              "    border-bottom-color: var(--fill-color);\n",
              "    animation:\n",
              "      spin 1s steps(1) infinite;\n",
              "  }\n",
              "\n",
              "  @keyframes spin {\n",
              "    0% {\n",
              "      border-color: transparent;\n",
              "      border-bottom-color: var(--fill-color);\n",
              "      border-left-color: var(--fill-color);\n",
              "    }\n",
              "    20% {\n",
              "      border-color: transparent;\n",
              "      border-left-color: var(--fill-color);\n",
              "      border-top-color: var(--fill-color);\n",
              "    }\n",
              "    30% {\n",
              "      border-color: transparent;\n",
              "      border-left-color: var(--fill-color);\n",
              "      border-top-color: var(--fill-color);\n",
              "      border-right-color: var(--fill-color);\n",
              "    }\n",
              "    40% {\n",
              "      border-color: transparent;\n",
              "      border-right-color: var(--fill-color);\n",
              "      border-top-color: var(--fill-color);\n",
              "    }\n",
              "    60% {\n",
              "      border-color: transparent;\n",
              "      border-right-color: var(--fill-color);\n",
              "    }\n",
              "    80% {\n",
              "      border-color: transparent;\n",
              "      border-right-color: var(--fill-color);\n",
              "      border-bottom-color: var(--fill-color);\n",
              "    }\n",
              "    90% {\n",
              "      border-color: transparent;\n",
              "      border-bottom-color: var(--fill-color);\n",
              "    }\n",
              "  }\n",
              "</style>\n",
              "\n",
              "      <script>\n",
              "        async function quickchart(key) {\n",
              "          const quickchartButtonEl =\n",
              "            document.querySelector('#' + key + ' button');\n",
              "          quickchartButtonEl.disabled = true;  // To prevent multiple clicks.\n",
              "          quickchartButtonEl.classList.add('colab-df-spinner');\n",
              "          try {\n",
              "            const charts = await google.colab.kernel.invokeFunction(\n",
              "                'suggestCharts', [key], {});\n",
              "          } catch (error) {\n",
              "            console.error('Error during call to suggestCharts:', error);\n",
              "          }\n",
              "          quickchartButtonEl.classList.remove('colab-df-spinner');\n",
              "          quickchartButtonEl.classList.add('colab-df-quickchart-complete');\n",
              "        }\n",
              "        (() => {\n",
              "          let quickchartButtonEl =\n",
              "            document.querySelector('#df-e7497060-ed60-422a-b5e5-aa46f7b049f0 button');\n",
              "          quickchartButtonEl.style.display =\n",
              "            google.colab.kernel.accessAllowed ? 'block' : 'none';\n",
              "        })();\n",
              "      </script>\n",
              "    </div>\n",
              "    </div>\n",
              "  </div>\n"
            ],
            "application/vnd.google.colaboratory.intrinsic+json": {
              "type": "dataframe",
              "variable_name": "df",
              "summary": "{\n  \"name\": \"df\",\n  \"rows\": 5000,\n  \"fields\": [\n    {\n      \"column\": \"\\u041f\\u043e\\u0442\\u0443\\u0436\\u043d\\u0456\\u0441\\u0442\\u044c (\\u043b/\\u0433)\",\n      \"properties\": {\n        \"dtype\": \"number\",\n        \"std\": 14.911581773177492,\n        \"min\": -12.51,\n        \"max\": 104.88,\n        \"num_unique_values\": 2425,\n        \"samples\": [\n          38.14,\n          73.78,\n          48.13\n        ],\n        \"semantic_type\": \"\",\n        \"description\": \"\"\n      }\n    },\n    {\n      \"column\": \"\\u0422\\u0430\\u0440\\u0430\",\n      \"properties\": {\n        \"dtype\": \"category\",\n        \"num_unique_values\": 4,\n        \"samples\": [\n          \"\\u041a\\u0430\\u043d\\u0456\\u0441\\u0442\\u0440\\u0430\",\n          \"\\u0411\\u043e\\u0447\\u043a\\u0430\",\n          \"\\u041e\\u0441\\u043e\\u0431\\u043b\\u0438\\u0432\\u0435 \\u0437\\u0430\\u043c\\u043e\\u0432\\u043b\\u0435\\u043d\\u043d\\u044f\"\n        ],\n        \"semantic_type\": \"\",\n        \"description\": \"\"\n      }\n    },\n    {\n      \"column\": \"\\u042f\\u043a\\u0456\\u0441\\u0442\\u044c\",\n      \"properties\": {\n        \"dtype\": \"category\",\n        \"num_unique_values\": 4,\n        \"samples\": [\n          \"\\u0414\\u0443\\u0436\\u0435 \\u043d\\u0438\\u0437\\u044c\\u043a\\u0430\",\n          \"\\u0412\\u0438\\u0441\\u043e\\u043a\\u0430\",\n          \"\\u041d\\u0438\\u0437\\u044c\\u043a\\u0430\"\n        ],\n        \"semantic_type\": \"\",\n        \"description\": \"\"\n      }\n    },\n    {\n      \"column\": \"\\u0421\\u0442\\u0440\\u0443\\u043a\\u0442\\u0443\\u0440\\u0430\",\n      \"properties\": {\n        \"dtype\": \"category\",\n        \"num_unique_values\": 3,\n        \"samples\": [\n          \"\\u0420\\u043e\\u043c\\u0431\\u043e\\u0432\\u0438\\u0434\\u043d\\u0430\",\n          \"\\u0424\\u0440\\u0430\\u043a\\u0442\\u0430\\u043b\\u044c\\u043d\\u0430\",\n          \"\\u0420\\u0435\\u0448\\u0456\\u0442\\u043a\\u0430\"\n        ],\n        \"semantic_type\": \"\",\n        \"description\": \"\"\n      }\n    },\n    {\n      \"column\": \"\\u0412\\u0456\\u0434\\u0441\\u0442\\u0430\\u043d\\u044c \\u0432\\u0456\\u0434 \\u0434\\u0436\\u0435\\u0440\\u0435\\u043b\\u0430 (\\u043a\\u043c)\",\n      \"properties\": {\n        \"dtype\": \"number\",\n        \"std\": 325.9932208004599,\n        \"min\": 1371.01,\n        \"max\": 3745.21,\n        \"num_unique_values\": 3145,\n        \"samples\": [\n          1992.78,\n          2661.02,\n          2381.68\n        ],\n        \"semantic_type\": \"\",\n        \"description\": \"\"\n      }\n    },\n    {\n      \"column\": \"\\u041c\\u0430\\u0442\\u0435\\u0440\\u0456\\u0430\\u043b\",\n      \"properties\": {\n        \"dtype\": \"category\",\n        \"num_unique_values\": 4,\n        \"samples\": [\n          \"\\u0417\\u0430\\u043b\\u0456\\u0437\\u043e\",\n          \"\\u041b\\u044c\\u043e\\u043d\",\n          \"\\u0421\\u043a\\u043b\\u043e\"\n        ],\n        \"semantic_type\": \"\",\n        \"description\": \"\"\n      }\n    },\n    {\n      \"column\": \"\\u0412\\u0430\\u0440\\u0442\\u0456\\u0441\\u0442\\u044c (\\u0433\\u0440\\u043d)\",\n      \"properties\": {\n        \"dtype\": \"number\",\n        \"std\": 180.383242904149,\n        \"min\": 363.32,\n        \"max\": 1641.87,\n        \"num_unique_values\": 3094,\n        \"samples\": [\n          982.5,\n          797.86,\n          1098.05\n        ],\n        \"semantic_type\": \"\",\n        \"description\": \"\"\n      }\n    },\n    {\n      \"column\": \"\\u0421\\u0442\\u0430\\u0442\\u0443\\u0441 \\u043f\\u0440\\u043e\\u0454\\u043a\\u0442\\u0430\",\n      \"properties\": {\n        \"dtype\": \"category\",\n        \"num_unique_values\": 2,\n        \"samples\": [\n          \"\\u0423\\u0437\\u0433\\u043e\\u0434\\u0436\\u0435\\u043d\\u043e\",\n          \"\\u0417\\u0430\\u0431\\u043b\\u043e\\u043a\\u043e\\u0432\\u0430\\u043d\\u043e\"\n        ],\n        \"semantic_type\": \"\",\n        \"description\": \"\"\n      }\n    }\n  ]\n}"
            }
          },
          "metadata": {},
          "execution_count": 1
        }
      ],
      "source": [
        "import pandas as pd\n",
        "df = pd.read_csv(\"2.csv\")\n",
        "df"
      ]
    },
    {
      "cell_type": "markdown",
      "source": [
        "## 2. Визначаю числові, категорійні впорядковані, категорійні невпорядковані змінні. Для кожної категорійної змінної пишу код, який виводить всі унікальні значення, котрі вона набуває в наборі даних."
      ],
      "metadata": {
        "id": "kziVtq6jenS0"
      }
    },
    {
      "cell_type": "code",
      "source": [
        "# 1. Числові змінні\n",
        "numerical_vars = ['Потужність (л/г)', 'Відстань від джерела (км)', 'Вартість (грн)']"
      ],
      "metadata": {
        "id": "mGF3RtWVfBxX"
      },
      "execution_count": 3,
      "outputs": []
    },
    {
      "cell_type": "code",
      "source": [
        "# 2. Категорійні впорядковані змінні\n",
        "ordinal_vars = ['Якість']"
      ],
      "metadata": {
        "id": "Loh0tQ-yhImQ"
      },
      "execution_count": 4,
      "outputs": []
    },
    {
      "cell_type": "code",
      "source": [
        "# 3. Категорійні невпорядковані змінні\n",
        "categorical_vars = ['Тара', 'Структура', 'Матеріал', 'Статус проєкта']"
      ],
      "metadata": {
        "id": "g0uR6IHRhLKm"
      },
      "execution_count": 5,
      "outputs": []
    },
    {
      "cell_type": "code",
      "source": [
        "df['Якість'].unique()"
      ],
      "metadata": {
        "colab": {
          "base_uri": "https://localhost:8080/"
        },
        "id": "x3xSr2B5hSnO",
        "outputId": "1d582303-2129-4163-eb78-eb8f7d64226b"
      },
      "execution_count": 7,
      "outputs": [
        {
          "output_type": "execute_result",
          "data": {
            "text/plain": [
              "array(['Низька', 'Дуже низька', 'Середня', 'Висока'], dtype=object)"
            ]
          },
          "metadata": {},
          "execution_count": 7
        }
      ]
    },
    {
      "cell_type": "code",
      "source": [
        "df['Тара'].unique()"
      ],
      "metadata": {
        "colab": {
          "base_uri": "https://localhost:8080/"
        },
        "id": "DTGtIwrBhWQr",
        "outputId": "6cd1efef-2208-4c80-fdb0-fe5a0b51454d"
      },
      "execution_count": 8,
      "outputs": [
        {
          "output_type": "execute_result",
          "data": {
            "text/plain": [
              "array(['Особливе замовлення', 'Каністра', 'Своя', 'Бочка'], dtype=object)"
            ]
          },
          "metadata": {},
          "execution_count": 8
        }
      ]
    },
    {
      "cell_type": "code",
      "source": [
        "df['Структура'].unique()"
      ],
      "metadata": {
        "colab": {
          "base_uri": "https://localhost:8080/"
        },
        "id": "Dw5ZdxQrhZBn",
        "outputId": "6700a28a-35ec-4fe6-ca96-47969ab9eca4"
      },
      "execution_count": 9,
      "outputs": [
        {
          "output_type": "execute_result",
          "data": {
            "text/plain": [
              "array(['Ромбовидна', 'Фрактальна', 'Решітка'], dtype=object)"
            ]
          },
          "metadata": {},
          "execution_count": 9
        }
      ]
    },
    {
      "cell_type": "code",
      "source": [
        "df['Матеріал'].unique()"
      ],
      "metadata": {
        "colab": {
          "base_uri": "https://localhost:8080/"
        },
        "id": "r-HfdXP7hbFu",
        "outputId": "2a7343f8-e41b-41e5-a6ed-9e2fc7e29b30"
      },
      "execution_count": 10,
      "outputs": [
        {
          "output_type": "execute_result",
          "data": {
            "text/plain": [
              "array(['Скло', 'Залізо', 'Поліпропілен', 'Льон'], dtype=object)"
            ]
          },
          "metadata": {},
          "execution_count": 10
        }
      ]
    },
    {
      "cell_type": "code",
      "source": [
        "df['Статус проєкта'].unique()"
      ],
      "metadata": {
        "colab": {
          "base_uri": "https://localhost:8080/"
        },
        "id": "dCrGOpaghdxO",
        "outputId": "1f780e81-d26a-40f0-dcd2-b0c1a040db05"
      },
      "execution_count": 11,
      "outputs": [
        {
          "output_type": "execute_result",
          "data": {
            "text/plain": [
              "array(['Заблоковано', 'Узгоджено'], dtype=object)"
            ]
          },
          "metadata": {},
          "execution_count": 11
        }
      ]
    },
    {
      "cell_type": "markdown",
      "source": [
        "3. Закодувати категорійні впорядковані числами 0, 1, 2… (або іншими\n",
        "числами аналогічним чином), до невпорядкованих застосувати опорне\n",
        "кодування."
      ],
      "metadata": {
        "id": "b0ZHlJ24hpCN"
      }
    }
  ]
}