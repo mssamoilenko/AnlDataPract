{
  "nbformat": 4,
  "nbformat_minor": 0,
  "metadata": {
    "colab": {
      "provenance": [],
      "authorship_tag": "ABX9TyO8X4I7XxnbqoKMSIpddIu5",
      "include_colab_link": true
    },
    "kernelspec": {
      "name": "python3",
      "display_name": "Python 3"
    },
    "language_info": {
      "name": "python"
    }
  },
  "cells": [
    {
      "cell_type": "markdown",
      "metadata": {
        "id": "view-in-github",
        "colab_type": "text"
      },
      "source": [
        "<a href=\"https://colab.research.google.com/github/mssamoilenko/AnlDataPract/blob/main/AnlPrakt4.ipynb\" target=\"_parent\"><img src=\"https://colab.research.google.com/assets/colab-badge.svg\" alt=\"Open In Colab\"/></a>"
      ]
    },
    {
      "cell_type": "markdown",
      "source": [
        "# Практична робота №4\n",
        "\n",
        "## Тема: A/B тест та статистична значущість.\n",
        "\n",
        "## Мета: проведення власного експерименту щодо оцінки різного дизайну веб-сторінок, закріплення навичок проведення A/B тесту та підтвердження статистичної значущості результатів експерименту.\n",
        "\n",
        "## Варіант №2\n",
        "\n",
        "## Завдання\n",
        "\n",
        "1.   Завантажити дані індивідуального варіанту за посиланням на порталі дистанційної освіти.\n",
        "2.   Використовуючи Pandas відобразити перші 5 рядків даних власного варіанта.\n",
        "3.   Побудувати коробкові діаграми для даних обох варіантів, розрахувати середнє та медіану.\n",
        "4.   Самостійно реалізувати перестановочний тест в Python, використовуючи псевдокод, наведений нижче. Оцінити 𝑝-значення за допомогою перестановочного тесту та порівняти із альфа. Зробити висновок про статистичну значущість.\n",
        "\n",
        "  * a. Альфа взяти 1% для непарних варіантів, 5% для парних.\n",
        "\n",
        "5.   Використати 𝑡-test для оцінки значущості. Порівняти результати перестановочного A/B тесту і 𝑡-тесту.\n",
        "6.   Чи правильний висновок зробив ваш колега-новатор?\n",
        "7.   Навести висновок, який буде містити:\n",
        "\n",
        "  * a. Чи різниця між варіантами є статистично значущою із відповідними p-значеннями\n",
        "  * b. Якщо так, то який варіант краще та на скільки відсотків.\n",
        "\n",
        "## Хід роботи\n",
        "\n",
        "1.   Завантажую дані індивідуального варіанту за посиланням на порталі дистанційної освіти."
      ],
      "metadata": {
        "id": "cDsZiLOBE2iQ"
      }
    },
    {
      "cell_type": "code",
      "execution_count": 21,
      "metadata": {
        "id": "-0u8AxBAEnDZ"
      },
      "outputs": [],
      "source": [
        "import pandas as pd\n",
        "import matplotlib.pyplot as plt\n",
        "import numpy as np\n",
        "from scipy.stats import ttest_ind\n",
        "df = pd.read_csv(\"2.csv\")"
      ]
    },
    {
      "cell_type": "markdown",
      "source": [
        "2. Використовуючи Pandas відображаю перші 5 рядків даних власного варіанта."
      ],
      "metadata": {
        "id": "gvD_gDXVIIMM"
      }
    },
    {
      "cell_type": "code",
      "source": [
        "df.head()"
      ],
      "metadata": {
        "colab": {
          "base_uri": "https://localhost:8080/",
          "height": 206
        },
        "id": "gyUmTJnFIQRg",
        "outputId": "28bff406-34e2-4518-aa0f-a7ac57fcda24"
      },
      "execution_count": 2,
      "outputs": [
        {
          "output_type": "execute_result",
          "data": {
            "text/plain": [
              "        A       B\n",
              "0   57.12  106.62\n",
              "1   87.13  125.32\n",
              "2  140.06  102.05\n",
              "3  188.39  140.52\n",
              "4   59.89   61.31"
            ],
            "text/html": [
              "\n",
              "  <div id=\"df-baced414-83f1-4def-91c1-7e6f1c8ba80b\" class=\"colab-df-container\">\n",
              "    <div>\n",
              "<style scoped>\n",
              "    .dataframe tbody tr th:only-of-type {\n",
              "        vertical-align: middle;\n",
              "    }\n",
              "\n",
              "    .dataframe tbody tr th {\n",
              "        vertical-align: top;\n",
              "    }\n",
              "\n",
              "    .dataframe thead th {\n",
              "        text-align: right;\n",
              "    }\n",
              "</style>\n",
              "<table border=\"1\" class=\"dataframe\">\n",
              "  <thead>\n",
              "    <tr style=\"text-align: right;\">\n",
              "      <th></th>\n",
              "      <th>A</th>\n",
              "      <th>B</th>\n",
              "    </tr>\n",
              "  </thead>\n",
              "  <tbody>\n",
              "    <tr>\n",
              "      <th>0</th>\n",
              "      <td>57.12</td>\n",
              "      <td>106.62</td>\n",
              "    </tr>\n",
              "    <tr>\n",
              "      <th>1</th>\n",
              "      <td>87.13</td>\n",
              "      <td>125.32</td>\n",
              "    </tr>\n",
              "    <tr>\n",
              "      <th>2</th>\n",
              "      <td>140.06</td>\n",
              "      <td>102.05</td>\n",
              "    </tr>\n",
              "    <tr>\n",
              "      <th>3</th>\n",
              "      <td>188.39</td>\n",
              "      <td>140.52</td>\n",
              "    </tr>\n",
              "    <tr>\n",
              "      <th>4</th>\n",
              "      <td>59.89</td>\n",
              "      <td>61.31</td>\n",
              "    </tr>\n",
              "  </tbody>\n",
              "</table>\n",
              "</div>\n",
              "    <div class=\"colab-df-buttons\">\n",
              "\n",
              "  <div class=\"colab-df-container\">\n",
              "    <button class=\"colab-df-convert\" onclick=\"convertToInteractive('df-baced414-83f1-4def-91c1-7e6f1c8ba80b')\"\n",
              "            title=\"Convert this dataframe to an interactive table.\"\n",
              "            style=\"display:none;\">\n",
              "\n",
              "  <svg xmlns=\"http://www.w3.org/2000/svg\" height=\"24px\" viewBox=\"0 -960 960 960\">\n",
              "    <path d=\"M120-120v-720h720v720H120Zm60-500h600v-160H180v160Zm220 220h160v-160H400v160Zm0 220h160v-160H400v160ZM180-400h160v-160H180v160Zm440 0h160v-160H620v160ZM180-180h160v-160H180v160Zm440 0h160v-160H620v160Z\"/>\n",
              "  </svg>\n",
              "    </button>\n",
              "\n",
              "  <style>\n",
              "    .colab-df-container {\n",
              "      display:flex;\n",
              "      gap: 12px;\n",
              "    }\n",
              "\n",
              "    .colab-df-convert {\n",
              "      background-color: #E8F0FE;\n",
              "      border: none;\n",
              "      border-radius: 50%;\n",
              "      cursor: pointer;\n",
              "      display: none;\n",
              "      fill: #1967D2;\n",
              "      height: 32px;\n",
              "      padding: 0 0 0 0;\n",
              "      width: 32px;\n",
              "    }\n",
              "\n",
              "    .colab-df-convert:hover {\n",
              "      background-color: #E2EBFA;\n",
              "      box-shadow: 0px 1px 2px rgba(60, 64, 67, 0.3), 0px 1px 3px 1px rgba(60, 64, 67, 0.15);\n",
              "      fill: #174EA6;\n",
              "    }\n",
              "\n",
              "    .colab-df-buttons div {\n",
              "      margin-bottom: 4px;\n",
              "    }\n",
              "\n",
              "    [theme=dark] .colab-df-convert {\n",
              "      background-color: #3B4455;\n",
              "      fill: #D2E3FC;\n",
              "    }\n",
              "\n",
              "    [theme=dark] .colab-df-convert:hover {\n",
              "      background-color: #434B5C;\n",
              "      box-shadow: 0px 1px 3px 1px rgba(0, 0, 0, 0.15);\n",
              "      filter: drop-shadow(0px 1px 2px rgba(0, 0, 0, 0.3));\n",
              "      fill: #FFFFFF;\n",
              "    }\n",
              "  </style>\n",
              "\n",
              "    <script>\n",
              "      const buttonEl =\n",
              "        document.querySelector('#df-baced414-83f1-4def-91c1-7e6f1c8ba80b button.colab-df-convert');\n",
              "      buttonEl.style.display =\n",
              "        google.colab.kernel.accessAllowed ? 'block' : 'none';\n",
              "\n",
              "      async function convertToInteractive(key) {\n",
              "        const element = document.querySelector('#df-baced414-83f1-4def-91c1-7e6f1c8ba80b');\n",
              "        const dataTable =\n",
              "          await google.colab.kernel.invokeFunction('convertToInteractive',\n",
              "                                                    [key], {});\n",
              "        if (!dataTable) return;\n",
              "\n",
              "        const docLinkHtml = 'Like what you see? Visit the ' +\n",
              "          '<a target=\"_blank\" href=https://colab.research.google.com/notebooks/data_table.ipynb>data table notebook</a>'\n",
              "          + ' to learn more about interactive tables.';\n",
              "        element.innerHTML = '';\n",
              "        dataTable['output_type'] = 'display_data';\n",
              "        await google.colab.output.renderOutput(dataTable, element);\n",
              "        const docLink = document.createElement('div');\n",
              "        docLink.innerHTML = docLinkHtml;\n",
              "        element.appendChild(docLink);\n",
              "      }\n",
              "    </script>\n",
              "  </div>\n",
              "\n",
              "\n",
              "    <div id=\"df-d15ab24d-41ec-4910-a744-0a55f3875f68\">\n",
              "      <button class=\"colab-df-quickchart\" onclick=\"quickchart('df-d15ab24d-41ec-4910-a744-0a55f3875f68')\"\n",
              "                title=\"Suggest charts\"\n",
              "                style=\"display:none;\">\n",
              "\n",
              "<svg xmlns=\"http://www.w3.org/2000/svg\" height=\"24px\"viewBox=\"0 0 24 24\"\n",
              "     width=\"24px\">\n",
              "    <g>\n",
              "        <path d=\"M19 3H5c-1.1 0-2 .9-2 2v14c0 1.1.9 2 2 2h14c1.1 0 2-.9 2-2V5c0-1.1-.9-2-2-2zM9 17H7v-7h2v7zm4 0h-2V7h2v10zm4 0h-2v-4h2v4z\"/>\n",
              "    </g>\n",
              "</svg>\n",
              "      </button>\n",
              "\n",
              "<style>\n",
              "  .colab-df-quickchart {\n",
              "      --bg-color: #E8F0FE;\n",
              "      --fill-color: #1967D2;\n",
              "      --hover-bg-color: #E2EBFA;\n",
              "      --hover-fill-color: #174EA6;\n",
              "      --disabled-fill-color: #AAA;\n",
              "      --disabled-bg-color: #DDD;\n",
              "  }\n",
              "\n",
              "  [theme=dark] .colab-df-quickchart {\n",
              "      --bg-color: #3B4455;\n",
              "      --fill-color: #D2E3FC;\n",
              "      --hover-bg-color: #434B5C;\n",
              "      --hover-fill-color: #FFFFFF;\n",
              "      --disabled-bg-color: #3B4455;\n",
              "      --disabled-fill-color: #666;\n",
              "  }\n",
              "\n",
              "  .colab-df-quickchart {\n",
              "    background-color: var(--bg-color);\n",
              "    border: none;\n",
              "    border-radius: 50%;\n",
              "    cursor: pointer;\n",
              "    display: none;\n",
              "    fill: var(--fill-color);\n",
              "    height: 32px;\n",
              "    padding: 0;\n",
              "    width: 32px;\n",
              "  }\n",
              "\n",
              "  .colab-df-quickchart:hover {\n",
              "    background-color: var(--hover-bg-color);\n",
              "    box-shadow: 0 1px 2px rgba(60, 64, 67, 0.3), 0 1px 3px 1px rgba(60, 64, 67, 0.15);\n",
              "    fill: var(--button-hover-fill-color);\n",
              "  }\n",
              "\n",
              "  .colab-df-quickchart-complete:disabled,\n",
              "  .colab-df-quickchart-complete:disabled:hover {\n",
              "    background-color: var(--disabled-bg-color);\n",
              "    fill: var(--disabled-fill-color);\n",
              "    box-shadow: none;\n",
              "  }\n",
              "\n",
              "  .colab-df-spinner {\n",
              "    border: 2px solid var(--fill-color);\n",
              "    border-color: transparent;\n",
              "    border-bottom-color: var(--fill-color);\n",
              "    animation:\n",
              "      spin 1s steps(1) infinite;\n",
              "  }\n",
              "\n",
              "  @keyframes spin {\n",
              "    0% {\n",
              "      border-color: transparent;\n",
              "      border-bottom-color: var(--fill-color);\n",
              "      border-left-color: var(--fill-color);\n",
              "    }\n",
              "    20% {\n",
              "      border-color: transparent;\n",
              "      border-left-color: var(--fill-color);\n",
              "      border-top-color: var(--fill-color);\n",
              "    }\n",
              "    30% {\n",
              "      border-color: transparent;\n",
              "      border-left-color: var(--fill-color);\n",
              "      border-top-color: var(--fill-color);\n",
              "      border-right-color: var(--fill-color);\n",
              "    }\n",
              "    40% {\n",
              "      border-color: transparent;\n",
              "      border-right-color: var(--fill-color);\n",
              "      border-top-color: var(--fill-color);\n",
              "    }\n",
              "    60% {\n",
              "      border-color: transparent;\n",
              "      border-right-color: var(--fill-color);\n",
              "    }\n",
              "    80% {\n",
              "      border-color: transparent;\n",
              "      border-right-color: var(--fill-color);\n",
              "      border-bottom-color: var(--fill-color);\n",
              "    }\n",
              "    90% {\n",
              "      border-color: transparent;\n",
              "      border-bottom-color: var(--fill-color);\n",
              "    }\n",
              "  }\n",
              "</style>\n",
              "\n",
              "      <script>\n",
              "        async function quickchart(key) {\n",
              "          const quickchartButtonEl =\n",
              "            document.querySelector('#' + key + ' button');\n",
              "          quickchartButtonEl.disabled = true;  // To prevent multiple clicks.\n",
              "          quickchartButtonEl.classList.add('colab-df-spinner');\n",
              "          try {\n",
              "            const charts = await google.colab.kernel.invokeFunction(\n",
              "                'suggestCharts', [key], {});\n",
              "          } catch (error) {\n",
              "            console.error('Error during call to suggestCharts:', error);\n",
              "          }\n",
              "          quickchartButtonEl.classList.remove('colab-df-spinner');\n",
              "          quickchartButtonEl.classList.add('colab-df-quickchart-complete');\n",
              "        }\n",
              "        (() => {\n",
              "          let quickchartButtonEl =\n",
              "            document.querySelector('#df-d15ab24d-41ec-4910-a744-0a55f3875f68 button');\n",
              "          quickchartButtonEl.style.display =\n",
              "            google.colab.kernel.accessAllowed ? 'block' : 'none';\n",
              "        })();\n",
              "      </script>\n",
              "    </div>\n",
              "    </div>\n",
              "  </div>\n"
            ],
            "application/vnd.google.colaboratory.intrinsic+json": {
              "type": "dataframe",
              "variable_name": "df",
              "summary": "{\n  \"name\": \"df\",\n  \"rows\": 100,\n  \"fields\": [\n    {\n      \"column\": \"A\",\n      \"properties\": {\n        \"dtype\": \"number\",\n        \"std\": 39.48315006928828,\n        \"min\": 12.78,\n        \"max\": 193.46,\n        \"num_unique_values\": 99,\n        \"samples\": [\n          116.74,\n          133.05,\n          12.78\n        ],\n        \"semantic_type\": \"\",\n        \"description\": \"\"\n      }\n    },\n    {\n      \"column\": \"B\",\n      \"properties\": {\n        \"dtype\": \"number\",\n        \"std\": 50.15610923351656,\n        \"min\": -30.08,\n        \"max\": 265.17,\n        \"num_unique_values\": 100,\n        \"samples\": [\n          184.72,\n          174.42,\n          126.52\n        ],\n        \"semantic_type\": \"\",\n        \"description\": \"\"\n      }\n    }\n  ]\n}"
            }
          },
          "metadata": {},
          "execution_count": 2
        }
      ]
    },
    {
      "cell_type": "markdown",
      "source": [
        "3. Будую коробкові діаграми для даних обох варіантів, розраховую\n",
        "середнє та медіану."
      ],
      "metadata": {
        "id": "o708PgIGIdO3"
      }
    },
    {
      "cell_type": "code",
      "source": [
        "plt.figure(figsize=(8, 6))\n",
        "plt.boxplot([df[\"A\"], df[\"B\"]], labels=[\"A\", \"B\"])\n",
        "plt.title(\"Коробкові діаграми для варіантів A та B\")\n",
        "plt.ylabel(\"Значення\")\n",
        "plt.grid(True)\n",
        "plt.show()"
      ],
      "metadata": {
        "colab": {
          "base_uri": "https://localhost:8080/",
          "height": 600
        },
        "id": "kd-Bj3o8Ikjq",
        "outputId": "2cb9bc1f-b078-4feb-a836-74317d4c36da"
      },
      "execution_count": 4,
      "outputs": [
        {
          "output_type": "stream",
          "name": "stderr",
          "text": [
            "/tmp/ipython-input-1460610867.py:2: MatplotlibDeprecationWarning: The 'labels' parameter of boxplot() has been renamed 'tick_labels' since Matplotlib 3.9; support for the old name will be dropped in 3.11.\n",
            "  plt.boxplot([df[\"A\"], df[\"B\"]], labels=[\"A\", \"B\"])\n"
          ]
        },
        {
          "output_type": "display_data",
          "data": {
            "text/plain": [
              "<Figure size 800x600 with 1 Axes>"
            ],
            "image/png": "[encoded data removed]"
          },
          "metadata": {}
        }
      ]
    },
    {
      "cell_type": "code",
      "source": [
        "mean_A = df[\"A\"].mean()\n",
        "median_A = df[\"A\"].median()\n",
        "\n",
        "mean_B = df[\"B\"].mean()\n",
        "median_B = df[\"B\"].median()\n",
        "\n",
        "print(\"Варіант A:\")\n",
        "print(f\"  Середнє: {mean_A:.2f}\")\n",
        "print(f\"  Медіана: {median_A:.2f}\\n\")\n",
        "\n",
        "print(\"Варіант B:\")\n",
        "print(f\"  Середнє: {mean_B:.2f}\")\n",
        "print(f\"  Медіана: {median_B:.2f}\\n\")"
      ],
      "metadata": {
        "colab": {
          "base_uri": "https://localhost:8080/"
        },
        "id": "kQ7KsOiROTj4",
        "outputId": "75d48c73-9d7d-4b50-81b1-90bbfabefc1a"
      },
      "execution_count": 5,
      "outputs": [
        {
          "output_type": "stream",
          "name": "stdout",
          "text": [
            "Варіант A:\n",
            "  Середнє: 113.30\n",
            "  Медіана: 114.61\n",
            "\n",
            "Варіант B:\n",
            "  Середнє: 110.07\n",
            "  Медіана: 108.61\n",
            "\n"
          ]
        }
      ]
    },
    {
      "cell_type": "markdown",
      "source": [
        "4. Реалізовую перестановочний тест в Python, використовуючи псевдокод. Оцінюю 𝑝-значення за допомогою перестановочного тесту та порівнюю із альфа. Роблю висновок про статистичну значущість. Альфа беру 5% так як в мене парний варіант."
      ],
      "metadata": {
        "id": "gfxIOAAjOw1p"
      }
    },
    {
      "cell_type": "code",
      "source": [
        "#Об'єдную результати з різних груп у єдиний набір.\n",
        "data_A = df[\"A\"].values\n",
        "data_B = df[\"B\"].values\n",
        "\n",
        "combined_data = np.concatenate([data_A, data_B])"
      ],
      "metadata": {
        "id": "9GiUIJZOPbF6"
      },
      "execution_count": 7,
      "outputs": []
    },
    {
      "cell_type": "code",
      "source": [
        "# Перетасовую об'єднані дані\n",
        "shuffled_data = np.random.permutation(combined_data)\n",
        "\n",
        "# Витягую вибірку розміру групи A\n",
        "perm_A = shuffled_data[:len(data_A)]"
      ],
      "metadata": {
        "id": "agtz5NaKWDWp"
      },
      "execution_count": 9,
      "outputs": []
    },
    {
      "cell_type": "code",
      "source": [
        "# Беру решту даних після вибірки A\n",
        "remaining_data = shuffled_data[len(data_A):]\n",
        "\n",
        "perm_B = remaining_data[:len(data_B)]"
      ],
      "metadata": {
        "id": "LOqcuTH3XBg3"
      },
      "execution_count": 10,
      "outputs": []
    },
    {
      "cell_type": "code",
      "source": [
        "# Розраховую середні значення для обох груп\n",
        "mean_perm_A = np.mean(perm_A)\n",
        "mean_perm_B = np.mean(perm_B)\n",
        "\n",
        "# Різницю середніх (B - A)\n",
        "perm_diff = mean_perm_A - mean_perm_B\n",
        "\n",
        "print(\"Результати ітерації перестановки:\")\n",
        "print(f\"Середнє перестановочної групи A: {mean_perm_A:.4f}\")\n",
        "print(f\"Середнє перестановочної групи B: {mean_perm_B:.4f}\")\n",
        "print(f\"Різниця середніх (B - A): {perm_diff:.4f}\")"
      ],
      "metadata": {
        "colab": {
          "base_uri": "https://localhost:8080/"
        },
        "id": "yQFUHv1gYZVm",
        "outputId": "a271a413-4232-4b7a-d83c-905dcfed5318"
      },
      "execution_count": 15,
      "outputs": [
        {
          "output_type": "stream",
          "name": "stdout",
          "text": [
            "Результати ітерації перестановки:\n",
            "Середнє перестановочної групи A: 113.6377\n",
            "Середнє перестановочної групи B: 109.7336\n",
            "Різниця середніх (B - A): 3.9041\n"
          ]
        }
      ]
    },
    {
      "cell_type": "code",
      "source": [
        "# Початкова (спостережувана) різниця середніх\n",
        "obs_diff = np.mean(data_A) - np.mean(data_B)\n",
        "obs_diff"
      ],
      "metadata": {
        "colab": {
          "base_uri": "https://localhost:8080/"
        },
        "id": "kNaOmYZeanmE",
        "outputId": "f2751e68-197d-4cb6-a240-7ac372d79cf4"
      },
      "execution_count": 17,
      "outputs": [
        {
          "output_type": "execute_result",
          "data": {
            "text/plain": [
              "np.float64(3.23269999999998)"
            ]
          },
          "metadata": {},
          "execution_count": 17
        }
      ]
    },
    {
      "cell_type": "code",
      "source": [
        "# Кількість перестановок\n",
        "R = 200\n",
        "perm_diffs = []\n",
        "\n",
        "# Перестановочний тест\n",
        "for _ in range(R):\n",
        "    np.random.shuffle(combined_data)\n",
        "    perm_A = combined_data[:len(data_A)]\n",
        "    perm_B = combined_data[len(data_A):]\n",
        "    perm_diff = np.mean(perm_A) - np.mean(perm_B)\n",
        "    perm_diffs.append(perm_diff)"
      ],
      "metadata": {
        "id": "ULgtHQ-Naz8O"
      },
      "execution_count": 18,
      "outputs": []
    },
    {
      "cell_type": "code",
      "source": [
        "# Обчислення p-значення (двосторонній тест)\n",
        "p_value = np.mean(np.abs(perm_diffs) >= np.abs(obs_diff))\n",
        "\n",
        "alpha = 0.05\n",
        "\n",
        "print(f\"Спостережувана різниця середніх (A - B): {obs_diff:.4f}\")\n",
        "print(f\"p-значення: {p_value:.4f}\")\n",
        "\n",
        "if p_value < alpha:\n",
        "    print(\"✅ Є статистично значуща різниця між групами (p < 0.05).\")\n",
        "else:\n",
        "    print(\"❌ Немає статистично значущої різниці між групами (p ≥ 0.05).\")"
      ],
      "metadata": {
        "colab": {
          "base_uri": "https://localhost:8080/"
        },
        "id": "yLvmybIbbHKD",
        "outputId": "222c4e34-0bb3-47fc-d758-1ca265fcdbeb"
      },
      "execution_count": 20,
      "outputs": [
        {
          "output_type": "stream",
          "name": "stdout",
          "text": [
            "Спостережувана різниця середніх (A - B): 3.2327\n",
            "p-значення: 0.6150\n",
            "❌ Немає статистично значущої різниці між групами (p ≥ 0.05).\n"
          ]
        }
      ]
    },
    {
      "cell_type": "markdown",
      "source": [
        "5. Використовую 𝑡-test для оцінки значущості. Порівнюю результати\n",
        "перестановочного A/B тесту і 𝑡-тесту."
      ],
      "metadata": {
        "id": "IHrLyz-scVT1"
      }
    },
    {
      "cell_type": "code",
      "source": [
        "t_stat, p_value_ttest = ttest_ind(data_A, data_B, equal_var=False)\n",
        "\n",
        "print(\"\\n=== t-тест ===\")\n",
        "print(f\"t-статистика: {t_stat:.4f}\")\n",
        "print(f\"p-значення: {p_value_ttest:.4f}\")\n",
        "print(\"Висновок:\",\n",
        "      \"✅ Значуща різниця\" if p_value_ttest < alpha else \"❌ Незначуща різниця\")"
      ],
      "metadata": {
        "colab": {
          "base_uri": "https://localhost:8080/"
        },
        "id": "NG8YFFsrcCN3",
        "outputId": "41d03868-17e1-4184-cad1-2f3894e70bc0"
      },
      "execution_count": 22,
      "outputs": [
        {
          "output_type": "stream",
          "name": "stdout",
          "text": [
            "\n",
            "=== t-тест ===\n",
            "t-статистика: 0.5064\n",
            "p-значення: 0.6131\n",
            "Висновок: ❌ Незначуща різниця\n"
          ]
        }
      ]
    },
    {
      "cell_type": "code",
      "source": [],
      "metadata": {
        "id": "h7gzy8_lceFM"
      },
      "execution_count": null,
      "outputs": []
    }
  ]
}